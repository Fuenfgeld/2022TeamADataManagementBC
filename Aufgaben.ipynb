{
 "cells": [
  {
   "cell_type": "markdown",
   "metadata": {
    "colab_type": "text",
    "id": "view-in-github"
   },
   "source": [
    "<a href=\"https://colab.research.google.com/github/Fuenfgeld/2022TeamADataManagementBC/blob/main/Aufgaben.ipynb\" target=\"_parent\"><img src=\"https://colab.research.google.com/assets/colab-badge.svg\" alt=\"Open In Colab\"/></a>"
   ]
  },
  {
   "cell_type": "markdown",
   "metadata": {
    "id": "RX0TkE1edwsE"
   },
   "source": [
    "# AUFGABE 2: \n",
    "ERSTE EXPLORATIVE ANALYSE DES DATENSATZES\n",
    "\n",
    "Schaut euch den nachfolgenden Datensatz an: \n",
    "https://www.kaggle.com/datasets/sulianova/cardiovascular-disease-dataset\n",
    "\n",
    "Versuche nun zunächst die folgenden allgemeinen Fragen zu beantworten:\n",
    "\n",
    "1. Wer besitzt die Daten\n",
    "2. Woher kommen die Daten?\n",
    "3. Zugriffrechte der Daten / Welche Lizenz?\n",
    "4. Wo werden die Daten genutzt/geteilt?\n",
    "5. Benutzung / Verwendung der Daten?\n",
    "6. Wann wurden die Daten erstellt/geändert?\n",
    "7. Datum der einzelnen Messungen vorhanden?"
   ]
  },
  {
   "cell_type": "markdown",
   "metadata": {
    "id": "Y7UVlj9wd0dd"
   },
   "source": [
    "### Platz für deine Lösung:\n",
    "\n",
    "1. \n",
    "2. \n",
    "3. \n",
    "4. \n",
    "5. \n",
    "6. \n",
    "7. "
   ]
  },
  {
   "cell_type": "markdown",
   "metadata": {
    "id": "QBAMSAYiFDge"
   },
   "source": [
    "# Übung 3: Metadatenschema ausfüllen\n",
    "\n",
    "Analysiere nun den Datensatz genauer, welche Informationen kannst du finden? \n",
    "Füge hierzu in die erstellte Tabelle alle potentiellen Metadaten und deren Informationen hinzu die du finden kannst. \n",
    "\n",
    "| Field/Name | Content | Format | Reference | Additional information |\n",
    "| --- | --- | --- | --- | --- |\n",
    "| age | Age | int | - | Age specified in days |\n",
    "| ap_hi | Systolic blood pressure | int | - | - |\n",
    "|  |  |  |  |  |\n",
    "|  |  |  |  |  |\n",
    "|  |  |  |  |  |\n",
    "|  |  |  |  |  |\n",
    "|  |  |  |  |  |"
   ]
  },
  {
   "cell_type": "markdown",
   "metadata": {
    "id": "8HcmO9dzFKT4"
   },
   "source": [
    "### Deine Lösung zu Aufgabe 3:\n",
    "\n",
    "\n",
    "| Field/Name | Content | Format | Reference | Additional information |\n",
    "| --- | --- | --- | --- | --- |\n",
    "| age | Age | int | - | Age specified in days |\n",
    "| ap_hi | Systolic blood pressure | int | - | - |\n",
    "|  |  |  |  |   |\n",
    "|  |  |  |  |   |\n",
    "|  |  |  |  |   |\n",
    "|  |  |  |  |   |\n",
    "|  |  |  |  |   |\n",
    "|  |  |  |  |   |\n",
    "|  |  |  |  |   |\n",
    "|  |  |  |  |   |\n",
    "|  |  |  |  |   |\n",
    "|  |  |  |  |   |\n",
    "|  |  |  |  |   |"
   ]
  },
  {
   "cell_type": "markdown",
   "metadata": {
    "id": "Kw_wQ0kKd3CW"
   },
   "source": [
    "# AUFGABE 4: \n",
    "WEITERE “VERSTECKTE” METADATEN\n",
    "\n",
    "Es gibt noch weitere Daten, die nicht direkt ersichtlich sind, sich aber aus dem Datensatz generieren lassen. \n",
    "\n",
    "1. Welche Daten könnte man aus den Spalten “Körpergröße” und “Gewicht” ermitteln? \n",
    "\n",
    "2. Führe die nachfolgenden Code-Schritte aus. Berechne anschließend die Daten aus 1. und erweitere anschließend die Tabelle um eine weitere Spalte mit den neu generierten Daten."
   ]
  },
  {
   "cell_type": "markdown",
   "metadata": {
    "id": "jkMGZXUzd5jS"
   },
   "source": [
    "### Deine Lösung zu 4.1:\n",
    "\n",
    "1. "
   ]
  },
  {
   "cell_type": "markdown",
   "metadata": {
    "id": "UDd9pIk4d748"
   },
   "source": [
    "### Deine Lösung zu 4.2.:"
   ]
  },
  {
   "cell_type": "code",
   "execution_count": null,
   "metadata": {
    "colab": {
     "base_uri": "https://localhost:8080/",
     "height": 238
    },
    "id": "swhqIZ6Yd-IY",
    "outputId": "bc2284e9-1a8e-47b2-bf6c-a2587aa3d679"
   },
   "outputs": [],
   "source": [
    "# BITTE AUSFÜHREN\n",
    "# importieren der notwendigen Libraries\n",
    "import pandas as pd\n",
    "import numpy as np\n",
    "import matplotlib.pyplot as plt\n",
    "\n",
    "# Datensatz laden\n",
    "df = pd.read_csv(\"https://raw.githubusercontent.com/Fuenfgeld/2022TeamADataManagementBC/main/Tutorial-Metadaten/data/new_data.csv\", sep = ',', index_col = 0)\n",
    "\n",
    "# Betrachten der ersten 5 Zeilen des für diesen Kurs angepassten Datensatzes\n",
    "df.head(5)"
   ]
  },
  {
   "cell_type": "code",
   "execution_count": null,
   "metadata": {
    "id": "Pe1BUgz5eG5z"
   },
   "outputs": [],
   "source": [
    "# Füge hier deine Lösung ein\n",
    "\n",
    "\n"
   ]
  },
  {
   "cell_type": "markdown",
   "metadata": {
    "id": "rAjAnwgDeJy6"
   },
   "source": [
    "# Aufgabe 5\n",
    "DUBLIN CORE\n",
    "\n",
    "Fassen Sie die noch fehlenden \"Core Elemente\" unter der Verwendung der verlinkten Codierung-Standards für den vorgestellten Datensatz zusammen. Zusätzliche Informationen zum Datensatz können [hier](https://github.com/Fuenfgeld/2022TeamADataManagementBC/wiki/3.-Datensatz#zus%C3%A4tzliche-beschreibung) entnommen werden.\n",
    "\n",
    "Beispielhafte Codierung-Standards:\n",
    "1. [Thesaurus of Geographic Names (TGN)](http://www.getty.edu/research/tools/vocabularies/tgn/?find=&place=Heidelberg&nation=&prev_page=1&english=Y&popup=P)\n",
    "\n",
    "2. [Date and Time Formats](https://www.w3.org/TR/NOTE-datetime)\n",
    "\n",
    "3. [Media types](https://www.iana.org/assignments/media-types/media-types.xhtml)\n",
    "\n",
    "4. [Codes for the Representation of Names of Languages (ISO 639-2)](https://www.loc.gov/standards/iso639-2/php/code_list.php)\n",
    "\n",
    "5. [List of popular Licenses](https://opensource.org/licenses)"
   ]
  },
  {
   "cell_type": "markdown",
   "metadata": {
    "id": "dp9B3c-_gGQJ"
   },
   "source": [
    "### Platz für deine Lösung: \n",
    "\n",
    "1. \n",
    "2. \n",
    "3. \n",
    "4. \n",
    "5.  "
   ]
  },
  {
   "cell_type": "markdown",
   "metadata": {
    "id": "YTcP09X-Fo_M"
   },
   "source": [
    "# Aufgabe 6\n",
    "\n",
    "1. Was versteht ihr unter dem Begriff Semantik?\n",
    "\n",
    "2. Wie stehen Semantik und Metadaten in Bezug zueinander?\n",
    "\n",
    "\n",
    "\n",
    "HINWEIS: Semantik = Interpretation von Daten\n"
   ]
  },
  {
   "cell_type": "markdown",
   "metadata": {
    "id": "_v20f_BDF7dO"
   },
   "source": [
    "### Platz für deine Lösung zu Aufgabe 6:\n",
    "\n",
    "1. \n",
    "2. "
   ]
  },
  {
   "cell_type": "markdown",
   "metadata": {
    "id": "a0vUjH_UeWlY"
   },
   "source": [
    "# Aufgabe 7\n",
    "\n",
    "Welche Datenfelder weisen keinen semantischen Hintergrund auf?\n",
    "\n",
    "https://www.kaggle.com/datasets/sulianova/cardiovascular-disease-dataset\n"
   ]
  },
  {
   "cell_type": "markdown",
   "metadata": {
    "id": "sO67HsBeeZtZ"
   },
   "source": [
    "### Deine Lösung zu Aufgabe 7:\n",
    "\n"
   ]
  },
  {
   "cell_type": "markdown",
   "metadata": {
    "id": "Jcz59AiKe-yR"
   },
   "source": [
    "# Aufgabe 8\n",
    "Unter folgenden Link findet Ihr die standardisierte Bezeichnung des Blutdrucks: https://loinc.org/55284-4/\n",
    "\n",
    "1. Wie lautet die Empfehlung von LOINC bzgl. des Blutdrucks? \n",
    "\n",
    "2. Welche LOINC Codes finden sich jeweils für den systolischen und diastolischen Blutdruck?\n",
    "\n",
    "3. In welchen maßeinheiten kann man den Systolischen Blutdruck festhalten\n"
   ]
  },
  {
   "cell_type": "markdown",
   "metadata": {
    "id": "15ckU0fpg4HT"
   },
   "source": [
    "### Platz für deine Lösung:\n",
    "\n",
    "1. \n",
    "2. \n",
    "3. "
   ]
  },
  {
   "cell_type": "markdown",
   "metadata": {
    "id": "zD5pfiwufRE7"
   },
   "source": [
    "# Aufgabe 9\n",
    "\n",
    "Unter folgendem Link findet Ihr eine Klassifizierung der Krankheiten:\n",
    "https://www.icd-code.de/icd/code/ICD-10-GM.html\n",
    "\n",
    "1. Versucht einen ICD-10 Code Wertebereich zu finden der allgemein Herzkrankheiten beschreibt. Welche Wertebereich findet sich?\n",
    "\n",
    "2. Der Datensatz beschreibt somit nur allgemein eine Herzkrankheit aber nicht genau welche. Welcher ICD-10 Code würde eine Primäre Rechtsherzinsuffizienz beschreiben?\n",
    "\n",
    "3. Hinweis = Herzkreislaufkrankheiten (Cardiovascular Disease) zählen zu Krankheiten des Kreislaufsystems. \n"
   ]
  },
  {
   "cell_type": "markdown",
   "metadata": {
    "id": "dUlaxb3Lg7sG"
   },
   "source": [
    "### Platz für deine Lösung:\n",
    "\n",
    "1. \n",
    "2. \n",
    "3. "
   ]
  },
  {
   "cell_type": "markdown",
   "metadata": {
    "id": "QoxMZnaSekgP"
   },
   "source": [
    "# Aufgabe 10\n",
    "\n",
    "\n",
    "1. Durchforstet die Ontologie nach \"Tobacco use and exposure\".\n",
    "2. Versucht durch die Basisklasse \"Tobacco use and exposure\" die Subklasse \"Smoker\" zu finden und notiert bitte die ID der Klasse.\n",
    "3. Würdet Ihr sagen das \"Smoker\" eine korrekte Klassifizierung darstellt oder könnte man noch das Element noch genauer definieren?\n",
    "4. Wie müsste man in den Daten einen moderaten Raucher festhalten, der am Tag 10-19 Zigaretten raucht?\n",
    "\n",
    "\n",
    "→ https://bioportal.bioontology.org/ontologies/SNOMEDCT/?p=classes&conceptid=root\n",
    "\n"
   ]
  },
  {
   "cell_type": "markdown",
   "metadata": {
    "id": "kZGDZqCogwcv"
   },
   "source": [
    "### Platz für deine Lösung zu Aufgabe 10:\n",
    "\n",
    "1. \n",
    "2. \n",
    "3. \n",
    "4. "
   ]
  },
  {
   "cell_type": "markdown",
   "metadata": {},
   "source": [
    "# Quiztime (Multiple Choice)\n",
    "Was ist keine typische Art von Metadaten?\n",
    "\n",
    "    Erscheinungsjahr\n",
    "    Spaltenüberschrieften\n",
    "    Krankengeschichte\n",
    "    DOI\n",
    "\n",
    "Wählen Sie Metadatenschema Standards aus.\n",
    "\n",
    "    Dublin Core\n",
    "    ICD\n",
    "    International Standard Book Number\n",
    "    MODS\n",
    "\n",
    "Wie wird (empfohlen) der Dublin-Core abgespeichert?\n",
    "\n",
    "    XML\n",
    "    JSON\n",
    "    JEPG\n",
    "    RDF\n",
    "\n",
    "Was verbindest du mit semantischen Daten?\n",
    "\n",
    "    Interpretation von Daten\n",
    "    Beschreibung des Speicherformat\n",
    "    SNOMED\n",
    "    ICD"
   ]
  }
 ],
 "metadata": {
  "colab": {
   "authorship_tag": "ABX9TyNJKcntCfpbZMuv7GiEJUl7",
   "include_colab_link": true,
   "name": "Aufgaben.ipynb",
   "provenance": []
  },
  "kernelspec": {
   "display_name": "Python 3 (ipykernel)",
   "language": "python",
   "name": "python3"
  },
  "language_info": {
   "codemirror_mode": {
    "name": "ipython",
    "version": 3
   },
   "file_extension": ".py",
   "mimetype": "text/x-python",
   "name": "python",
   "nbconvert_exporter": "python",
   "pygments_lexer": "ipython3",
   "version": "3.8.10"
  }
 },
 "nbformat": 4,
 "nbformat_minor": 1
}
