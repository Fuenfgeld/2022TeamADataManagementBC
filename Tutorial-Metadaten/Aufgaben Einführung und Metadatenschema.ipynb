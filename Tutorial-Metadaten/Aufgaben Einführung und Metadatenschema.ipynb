{
 "cells": [
  {
   "cell_type": "markdown",
   "id": "ada365ff",
   "metadata": {},
   "source": [
    "# Aufgabe 1: Metadatenbeispiel aus der analogen Welt\n",
    "\n",
    "Nicht nur digitale Erzeugnisse enthalten Metadaten. Welche Metadaten könnte es bei einem Buch geben? "
   ]
  },
  {
   "cell_type": "markdown",
   "id": "ede83108",
   "metadata": {},
   "source": [
    "<span style=\"color:blue\">**Schreibe hier deine Vermutungen:**</span>\n",
    "1. \n",
    "2.\n",
    "3.\n",
    "..."
   ]
  },
  {
   "cell_type": "markdown",
   "id": "efbdf1ce",
   "metadata": {},
   "source": [
    "<span style=\"color:grey\">**Lösung:**</span>\n",
    "\n",
    "1. <span style=\"color:grey\">Name des Autors</span>\n",
    "2. <span style=\"color:grey\">Auflage</span>\n",
    "3. <span style=\"color:grey\">Erscheinungsjahr</span>\n",
    "4. <span style=\"color:grey\">Verlag</span>\n",
    "5. <span style=\"color:grey\">ISBN-Nummer</span>"
   ]
  },
  {
   "cell_type": "markdown",
   "id": "48aca114",
   "metadata": {},
   "source": [
    "# Übung: Erste explorative Analyse des Datensatzes und er Metadaten\n",
    "\n",
    "Schaut euch den nachfolgenden Datensatz an:\n",
    "https://www.kaggle.com/datasets/sulianova/cardiovascular-disease-dataset\n",
    "\n",
    "\n",
    "Versuche nun zunächst die folgenden allgemeinen Fragen zu beantworten:\n",
    "*   Wer besitzt die Daten\n",
    "*   Woher kommen die Daten?\n",
    "*   Zugriffrechte der Daten / Welche Lizenz?\n",
    "*   Wo werden die Daten genutz/geteilt?\n",
    "*   Wann wurden die Daten erstellt/geändert?\n",
    "*   Datum der einzelnen Messungen vorhanden?\n"
   ]
  },
  {
   "cell_type": "markdown",
   "id": "a03fbea8",
   "metadata": {},
   "source": [
    "### Lösung Allgemeine Infos\n",
    "\n",
    "*   Wer besitzt die Daten?\n",
    "  * Svetlana Ulianova (Owner)\n",
    "*   Woher kommen die Daten?\n",
    "  * Alle Datensatzwerte wurden zum Zeitpunkt der ärztlichen Untersuchung erhoben.\n",
    "*   Zugriffrechte der Daten / Welche Lizenz? \n",
    "  * Public/Unknown\n",
    "*   Wo werden die Daten genutz/geteilt? \n",
    "  * Kaggle\n",
    "*   Benutzung/Vewendung der Daten?\n",
    "  * Klassifizierung von Herzkrankheiten\n",
    "*   Wann wurden die Daten erstellt/geändert?\n",
    "  * 2019\n",
    "*   Datum der einzelnen Aufnahmen?\n",
    "  * Nicht vorhanden"
   ]
  },
  {
   "cell_type": "markdown",
   "id": "f783c6ad",
   "metadata": {},
   "source": [
    "# Übung: Metadatenschema ausfüllen\n",
    "\n",
    "Analysiere nun den Datensatz genauer, welche Informationen kannst du finden? \n",
    "Füge hierzu in die erstellte Tabelle alle potentiellen Metadaten und deren Informationen hinzu die du finden kannst. \n",
    "\n",
    "\n"
   ]
  },
  {
   "cell_type": "markdown",
   "id": "405389a6",
   "metadata": {},
   "source": [
    "| Feld | Inhalt | Format | Referenz |\n",
    "| --- | --- | --- | --- |\n",
    "| age | Alter der Probanden | int (Tage) | NA\n",
    "| ap_hi | Systolischer Blutdruck | int | NA\n",
    "|  |  |  |\n",
    "|  |  |  |\n",
    "|  |  |  |\n",
    "|  |  |  |\n",
    "|  |  |  |"
   ]
  },
  {
   "cell_type": "markdown",
   "id": "d69d37da",
   "metadata": {},
   "source": [
    "## Lösung Metadatenschema\n",
    "\n"
   ]
  },
  {
   "cell_type": "markdown",
   "id": "cbeac9ec",
   "metadata": {},
   "source": [
    "# Diskussion\n",
    "1.   Sind alle Informationen zugänglich/vorhanden? \n",
    "  * Falls nein, was fehlt?\n",
    "2.   Handelt es sich hierbei um einen gut annotierten Datensatz?\n",
    "  * Falls nein, was müsste verändert werden?"
   ]
  },
  {
   "cell_type": "code",
   "execution_count": null,
   "id": "e3cbbe11",
   "metadata": {},
   "outputs": [],
   "source": []
  }
 ],
 "metadata": {
  "kernelspec": {
   "display_name": "Python 3 (ipykernel)",
   "language": "python",
   "name": "python3"
  },
  "language_info": {
   "codemirror_mode": {
    "name": "ipython",
    "version": 3
   },
   "file_extension": ".py",
   "mimetype": "text/x-python",
   "name": "python",
   "nbconvert_exporter": "python",
   "pygments_lexer": "ipython3",
   "version": "3.9.7"
  }
 },
 "nbformat": 4,
 "nbformat_minor": 5
}
