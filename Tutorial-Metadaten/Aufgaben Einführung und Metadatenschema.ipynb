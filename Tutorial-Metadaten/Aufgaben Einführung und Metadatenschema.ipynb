{
 "cells": [
  {
   "cell_type": "markdown",
   "id": "ada365ff",
   "metadata": {},
   "source": [
    "# Aufgabe 1: Metadatenbeispiel aus der analogen Welt\n",
    "\n",
    "Nicht nur digitale Erzeugnisse enthalten Metadaten. Welche Metadaten könnte es bei einem Buch geben? "
   ]
  },
  {
   "cell_type": "markdown",
   "id": "ede83108",
   "metadata": {},
   "source": [
    "<span style=\"color:blue\">**Schreibe hier deine Vermutungen:**</span>\n",
    "1. \n",
    "2.\n",
    "3.\n",
    "..."
   ]
  },
  {
   "cell_type": "markdown",
   "id": "efbdf1ce",
   "metadata": {},
   "source": [
    "<span style=\"color:grey\">**Lösung:**</span>\n",
    "\n",
    "1. <span style=\"color:grey\">Name des Autors</span>\n",
    "2. <span style=\"color:grey\">Auflage</span>\n",
    "3. <span style=\"color:grey\">Erscheinungsjahr</span>\n",
    "4. <span style=\"color:grey\">Verlag</span>\n",
    "5. <span style=\"color:grey\">ISBN-Nummer</span>"
   ]
  },
  {
   "cell_type": "code",
   "execution_count": null,
   "id": "b8ca743a",
   "metadata": {},
   "outputs": [],
   "source": []
  }
 ],
 "metadata": {
  "kernelspec": {
   "display_name": "Python 3 (ipykernel)",
   "language": "python",
   "name": "python3"
  },
  "language_info": {
   "codemirror_mode": {
    "name": "ipython",
    "version": 3
   },
   "file_extension": ".py",
   "mimetype": "text/x-python",
   "name": "python",
   "nbconvert_exporter": "python",
   "pygments_lexer": "ipython3",
   "version": "3.9.7"
  }
 },
 "nbformat": 4,
 "nbformat_minor": 5
}
