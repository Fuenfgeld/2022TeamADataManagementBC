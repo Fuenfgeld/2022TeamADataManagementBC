{
  "nbformat": 4,
  "nbformat_minor": 0,
  "metadata": {
    "colab": {
      "name": "Aufgaben.ipynb",
      "provenance": [],
      "authorship_tag": "ABX9TyMDeImGMoQ5aEUN6xA76Hmf",
      "include_colab_link": true
    },
    "kernelspec": {
      "name": "python3",
      "display_name": "Python 3"
    },
    "language_info": {
      "name": "python"
    }
  },
  "cells": [
    {
      "cell_type": "markdown",
      "metadata": {
        "id": "view-in-github",
        "colab_type": "text"
      },
      "source": [
        "<a href=\"https://colab.research.google.com/github/Fuenfgeld/2022TeamADataManagementBC/blob/main/Tutorial-Metadaten/Aufgaben-L%C3%B6sungen.ipynb\" target=\"_parent\"><img src=\"https://colab.research.google.com/assets/colab-badge.svg\" alt=\"Open In Colab\"/></a>"
      ]
    },
    {
      "cell_type": "markdown",
      "source": [
        "# AUFGABE 2: \n",
        "ERSTE EXPLORATIVE ANALYSE DES DATENSATZES\n",
        "\n",
        "Schaut euch den nachfolgenden Datensatz an: \n",
        "https://www.kaggle.com/datasets/sulianova/cardiovascular-disease-dataset\n",
        "\n",
        "Versuche nun zunächst die folgenden allgemeinen Fragen zu beantworten:\n",
        "\n",
        "1. Wer besitzt die Daten\n",
        "2. Woher kommen die Daten?\n",
        "3. Zugriffrechte der Daten / Welche Lizenz?\n",
        "4. Wo werden die Daten genutzt/geteilt?\n",
        "5. Benutzung / Verwendung der Daten?\n",
        "6. Wann wurden die Daten erstellt/geändert?\n",
        "7.**bold text** Datum der einzelnen Messungen vorhanden?"
      ],
      "metadata": {
        "id": "RX0TkE1edwsE"
      }
    },
    {
      "cell_type": "markdown",
      "source": [
        "### Platz für deine Lösung:\n",
        "\n",
        "1. Svetlana Ulianova (Owner)\n",
        "2. Alle Datensatzwerte wurden zum Zeitpunkt der ärztlichen Untersuchung erhoben\n",
        "3. Public / Unknown\n",
        "4. Kaggle\n",
        "5. Klassifizierung von Herzkrankheiten\n",
        "6. 2019\n",
        "7. Nicht vorhanden"
      ],
      "metadata": {
        "id": "Y7UVlj9wd0dd"
      }
    },
    {
      "cell_type": "markdown",
      "source": [
        "# Übung 3: Metadatenschema ausfüllen\n",
        "\n",
        "Analysiere nun den Datensatz genauer, welche Informationen kannst du finden? \n",
        "Füge hierzu in die erstellte Tabelle alle potentiellen Metadaten und deren Informationen hinzu die du finden kannst. \n",
        "\n",
        "| Feld/Name | Inhalt | Format | Referenz | Zusatzinformationen |\n",
        "| --- | --- | --- | --- | --- |\n",
        "| age | Age | int | - | Age specified in days |\n",
        "| ap_hi | Systolic blood pressure | int | - | - |\n",
        "|  |  |  |  |  |\n",
        "|  |  |  |  |  |\n",
        "|  |  |  |  |  |\n",
        "|  |  |  |  |  |\n",
        "|  |  |  |  |  |"
      ],
      "metadata": {
        "id": "W2T6oK9ukBar"
      }
    },
    {
      "cell_type": "markdown",
      "source": [
        "### Deine Lösung zu Aufgabe 3:\n",
        "\n",
        "\n",
        "| Feld/Name | Inhalt | Format | Referenz | Zusatzinformationen |\n",
        "| --- | --- | --- | --- | --- |\n",
        "| age | Age | int | - | Age specified in days |\n",
        "| ap_hi | Systolic blood pressure | int | - | - |\n",
        "| height | Height | int | - | Specification in cm |\n",
        "| weight | Weight | float | - | Specification in kg |\n",
        "| gender | Gender | int (categorical code) | - | 1: women, 2: men |\n",
        "| ap_lo | Diastolic blood pressure | int | - | - |\n",
        "| cholesterol | Cholesterol  | int (categorical code) | - | 1: normal, 2: above normal, 3: well above normal |\n",
        "| gluc | Glucose | int (categorical code) | - | 1: normal, 2: above normal, 3: well above normal |\n",
        "| smoke | Smoking | int (binary code) | - | - |\n",
        "| alco | Alcohol intake | int (binary code) | - | - |\n",
        "| active | Physical activity | int (binary code) | - | - |\n",
        "| cardio | Presence or absence of cardiovascular disease | int (binary target code) | - | - |\n",
        "| id | ID Number | int | - | - |\n"
      ],
      "metadata": {
        "id": "Om4AVBMFkEd_"
      }
    },
    {
      "cell_type": "markdown",
      "source": [
        "# AUFGABE 4: \n",
        "WEITERE “VERSTECKTE” METADATEN\n",
        "\n",
        "Es gibt noch weitere Daten, die nicht direkt ersichtlich sind, sich aber aus dem Datensatz generieren lassen. \n",
        "\n",
        "1. Welche Daten könnte man aus den Spalten “Körpergröße” und “Gewicht” ermitteln? \n",
        "\n",
        "2. Führe die nachfolgenden Code-Schritte aus. Berechne anschließend die Daten aus 1. und erweitere anschließend die Tabelle um eine weitere Spalte mit den neu generierten Daten."
      ],
      "metadata": {
        "id": "Kw_wQ0kKd3CW"
      }
    },
    {
      "cell_type": "markdown",
      "source": [
        "### Deine Lösung zu 4.1:\n",
        "\n",
        "1. Der BMI lässt sich daraus errechnen. BMI = Körpergewicht [kg] / (Körpergröße [m])²"
      ],
      "metadata": {
        "id": "jkMGZXUzd5jS"
      }
    },
    {
      "cell_type": "markdown",
      "source": [
        "### Deine Lösung zu 4.2.:"
      ],
      "metadata": {
        "id": "UDd9pIk4d748"
      }
    },
    {
      "cell_type": "code",
      "source": [
        "# BITTE AUSFÜHREN\n",
        "# importieren der notwendigen Libraries\n",
        "import pandas as pd\n",
        "import numpy as np\n",
        "import matplotlib.pyplot as plt\n",
        "\n",
        "# Datensatz laden\n",
        "df = pd.read_csv(\"https://raw.githubusercontent.com/Fuenfgeld/2022TeamADataManagementBC/main/Tutorial-Metadaten/data/new_data.csv\", sep = ',', index_col = 0)\n",
        "\n",
        "# Betrachten der ersten 5 Zeilen des für diesen Kurs angepassten Datensatzes\n",
        "df.head(5)"
      ],
      "metadata": {
        "id": "swhqIZ6Yd-IY",
        "colab": {
          "base_uri": "https://localhost:8080/",
          "height": 238
        },
        "outputId": "46b1b9ef-edae-4d78-8328-c6ffe6b5f22e"
      },
      "execution_count": null,
      "outputs": [
        {
          "output_type": "execute_result",
          "data": {
            "text/plain": [
              "    age  height  weight  ap_hi  ap_lo  smoke  cardio\n",
              "id                                                  \n",
              "0    50     168    62.0    110     80      2       5\n",
              "1    55     156    85.0    140     90      0       5\n",
              "2    51     165    64.0    130     70      1       6\n",
              "3    48     169    82.0    150    100      1       0\n",
              "4    47     156    56.0    100     60      0       9"
            ],
            "text/html": [
              "\n",
              "  <div id=\"df-6d858125-c4fd-42fc-af88-f9ff389bc3c5\">\n",
              "    <div class=\"colab-df-container\">\n",
              "      <div>\n",
              "<style scoped>\n",
              "    .dataframe tbody tr th:only-of-type {\n",
              "        vertical-align: middle;\n",
              "    }\n",
              "\n",
              "    .dataframe tbody tr th {\n",
              "        vertical-align: top;\n",
              "    }\n",
              "\n",
              "    .dataframe thead th {\n",
              "        text-align: right;\n",
              "    }\n",
              "</style>\n",
              "<table border=\"1\" class=\"dataframe\">\n",
              "  <thead>\n",
              "    <tr style=\"text-align: right;\">\n",
              "      <th></th>\n",
              "      <th>age</th>\n",
              "      <th>height</th>\n",
              "      <th>weight</th>\n",
              "      <th>ap_hi</th>\n",
              "      <th>ap_lo</th>\n",
              "      <th>smoke</th>\n",
              "      <th>cardio</th>\n",
              "    </tr>\n",
              "    <tr>\n",
              "      <th>id</th>\n",
              "      <th></th>\n",
              "      <th></th>\n",
              "      <th></th>\n",
              "      <th></th>\n",
              "      <th></th>\n",
              "      <th></th>\n",
              "      <th></th>\n",
              "    </tr>\n",
              "  </thead>\n",
              "  <tbody>\n",
              "    <tr>\n",
              "      <th>0</th>\n",
              "      <td>50</td>\n",
              "      <td>168</td>\n",
              "      <td>62.0</td>\n",
              "      <td>110</td>\n",
              "      <td>80</td>\n",
              "      <td>2</td>\n",
              "      <td>5</td>\n",
              "    </tr>\n",
              "    <tr>\n",
              "      <th>1</th>\n",
              "      <td>55</td>\n",
              "      <td>156</td>\n",
              "      <td>85.0</td>\n",
              "      <td>140</td>\n",
              "      <td>90</td>\n",
              "      <td>0</td>\n",
              "      <td>5</td>\n",
              "    </tr>\n",
              "    <tr>\n",
              "      <th>2</th>\n",
              "      <td>51</td>\n",
              "      <td>165</td>\n",
              "      <td>64.0</td>\n",
              "      <td>130</td>\n",
              "      <td>70</td>\n",
              "      <td>1</td>\n",
              "      <td>6</td>\n",
              "    </tr>\n",
              "    <tr>\n",
              "      <th>3</th>\n",
              "      <td>48</td>\n",
              "      <td>169</td>\n",
              "      <td>82.0</td>\n",
              "      <td>150</td>\n",
              "      <td>100</td>\n",
              "      <td>1</td>\n",
              "      <td>0</td>\n",
              "    </tr>\n",
              "    <tr>\n",
              "      <th>4</th>\n",
              "      <td>47</td>\n",
              "      <td>156</td>\n",
              "      <td>56.0</td>\n",
              "      <td>100</td>\n",
              "      <td>60</td>\n",
              "      <td>0</td>\n",
              "      <td>9</td>\n",
              "    </tr>\n",
              "  </tbody>\n",
              "</table>\n",
              "</div>\n",
              "      <button class=\"colab-df-convert\" onclick=\"convertToInteractive('df-6d858125-c4fd-42fc-af88-f9ff389bc3c5')\"\n",
              "              title=\"Convert this dataframe to an interactive table.\"\n",
              "              style=\"display:none;\">\n",
              "        \n",
              "  <svg xmlns=\"http://www.w3.org/2000/svg\" height=\"24px\"viewBox=\"0 0 24 24\"\n",
              "       width=\"24px\">\n",
              "    <path d=\"M0 0h24v24H0V0z\" fill=\"none\"/>\n",
              "    <path d=\"M18.56 5.44l.94 2.06.94-2.06 2.06-.94-2.06-.94-.94-2.06-.94 2.06-2.06.94zm-11 1L8.5 8.5l.94-2.06 2.06-.94-2.06-.94L8.5 2.5l-.94 2.06-2.06.94zm10 10l.94 2.06.94-2.06 2.06-.94-2.06-.94-.94-2.06-.94 2.06-2.06.94z\"/><path d=\"M17.41 7.96l-1.37-1.37c-.4-.4-.92-.59-1.43-.59-.52 0-1.04.2-1.43.59L10.3 9.45l-7.72 7.72c-.78.78-.78 2.05 0 2.83L4 21.41c.39.39.9.59 1.41.59.51 0 1.02-.2 1.41-.59l7.78-7.78 2.81-2.81c.8-.78.8-2.07 0-2.86zM5.41 20L4 18.59l7.72-7.72 1.47 1.35L5.41 20z\"/>\n",
              "  </svg>\n",
              "      </button>\n",
              "      \n",
              "  <style>\n",
              "    .colab-df-container {\n",
              "      display:flex;\n",
              "      flex-wrap:wrap;\n",
              "      gap: 12px;\n",
              "    }\n",
              "\n",
              "    .colab-df-convert {\n",
              "      background-color: #E8F0FE;\n",
              "      border: none;\n",
              "      border-radius: 50%;\n",
              "      cursor: pointer;\n",
              "      display: none;\n",
              "      fill: #1967D2;\n",
              "      height: 32px;\n",
              "      padding: 0 0 0 0;\n",
              "      width: 32px;\n",
              "    }\n",
              "\n",
              "    .colab-df-convert:hover {\n",
              "      background-color: #E2EBFA;\n",
              "      box-shadow: 0px 1px 2px rgba(60, 64, 67, 0.3), 0px 1px 3px 1px rgba(60, 64, 67, 0.15);\n",
              "      fill: #174EA6;\n",
              "    }\n",
              "\n",
              "    [theme=dark] .colab-df-convert {\n",
              "      background-color: #3B4455;\n",
              "      fill: #D2E3FC;\n",
              "    }\n",
              "\n",
              "    [theme=dark] .colab-df-convert:hover {\n",
              "      background-color: #434B5C;\n",
              "      box-shadow: 0px 1px 3px 1px rgba(0, 0, 0, 0.15);\n",
              "      filter: drop-shadow(0px 1px 2px rgba(0, 0, 0, 0.3));\n",
              "      fill: #FFFFFF;\n",
              "    }\n",
              "  </style>\n",
              "\n",
              "      <script>\n",
              "        const buttonEl =\n",
              "          document.querySelector('#df-6d858125-c4fd-42fc-af88-f9ff389bc3c5 button.colab-df-convert');\n",
              "        buttonEl.style.display =\n",
              "          google.colab.kernel.accessAllowed ? 'block' : 'none';\n",
              "\n",
              "        async function convertToInteractive(key) {\n",
              "          const element = document.querySelector('#df-6d858125-c4fd-42fc-af88-f9ff389bc3c5');\n",
              "          const dataTable =\n",
              "            await google.colab.kernel.invokeFunction('convertToInteractive',\n",
              "                                                     [key], {});\n",
              "          if (!dataTable) return;\n",
              "\n",
              "          const docLinkHtml = 'Like what you see? Visit the ' +\n",
              "            '<a target=\"_blank\" href=https://colab.research.google.com/notebooks/data_table.ipynb>data table notebook</a>'\n",
              "            + ' to learn more about interactive tables.';\n",
              "          element.innerHTML = '';\n",
              "          dataTable['output_type'] = 'display_data';\n",
              "          await google.colab.output.renderOutput(dataTable, element);\n",
              "          const docLink = document.createElement('div');\n",
              "          docLink.innerHTML = docLinkHtml;\n",
              "          element.appendChild(docLink);\n",
              "        }\n",
              "      </script>\n",
              "    </div>\n",
              "  </div>\n",
              "  "
            ]
          },
          "metadata": {},
          "execution_count": 4
        }
      ]
    },
    {
      "cell_type": "code",
      "source": [
        "# Füge hier deine Lösung ein\n",
        "\n",
        "# BMI = Körpergewicht [kg] / (Körpergröße [m])²\n",
        "df['bmi'] = df['weight'] / pow(df['height']/100,2)\n",
        "df.head(10)"
      ],
      "metadata": {
        "id": "Pe1BUgz5eG5z",
        "colab": {
          "base_uri": "https://localhost:8080/",
          "height": 394
        },
        "outputId": "01450ab5-4bfe-48cf-bf01-facd14788485"
      },
      "execution_count": null,
      "outputs": [
        {
          "output_type": "execute_result",
          "data": {
            "text/plain": [
              "    age  height  weight  ap_hi  ap_lo  smoke  cardio        bmi\n",
              "id                                                             \n",
              "0    50     168    62.0    110     80      2       5  21.967120\n",
              "1    55     156    85.0    140     90      0       5  34.927679\n",
              "2    51     165    64.0    130     70      1       6  23.507805\n",
              "3    48     169    82.0    150    100      1       0  28.710479\n",
              "4    47     156    56.0    100     60      0       9  23.011177\n",
              "8    59     151    67.0    120     80      2       3  29.384676\n",
              "9    60     157    93.0    130     80      2       0  37.729725\n",
              "12   61     178    95.0    130     90      0       5  29.983588\n",
              "13   48     158    71.0    110     70      2       5  28.440955\n",
              "14   54     164    68.0    110     60      2       4  25.282570"
            ],
            "text/html": [
              "\n",
              "  <div id=\"df-c5e070cb-57c2-4f7e-b0ac-6802d530b042\">\n",
              "    <div class=\"colab-df-container\">\n",
              "      <div>\n",
              "<style scoped>\n",
              "    .dataframe tbody tr th:only-of-type {\n",
              "        vertical-align: middle;\n",
              "    }\n",
              "\n",
              "    .dataframe tbody tr th {\n",
              "        vertical-align: top;\n",
              "    }\n",
              "\n",
              "    .dataframe thead th {\n",
              "        text-align: right;\n",
              "    }\n",
              "</style>\n",
              "<table border=\"1\" class=\"dataframe\">\n",
              "  <thead>\n",
              "    <tr style=\"text-align: right;\">\n",
              "      <th></th>\n",
              "      <th>age</th>\n",
              "      <th>height</th>\n",
              "      <th>weight</th>\n",
              "      <th>ap_hi</th>\n",
              "      <th>ap_lo</th>\n",
              "      <th>smoke</th>\n",
              "      <th>cardio</th>\n",
              "      <th>bmi</th>\n",
              "    </tr>\n",
              "    <tr>\n",
              "      <th>id</th>\n",
              "      <th></th>\n",
              "      <th></th>\n",
              "      <th></th>\n",
              "      <th></th>\n",
              "      <th></th>\n",
              "      <th></th>\n",
              "      <th></th>\n",
              "      <th></th>\n",
              "    </tr>\n",
              "  </thead>\n",
              "  <tbody>\n",
              "    <tr>\n",
              "      <th>0</th>\n",
              "      <td>50</td>\n",
              "      <td>168</td>\n",
              "      <td>62.0</td>\n",
              "      <td>110</td>\n",
              "      <td>80</td>\n",
              "      <td>2</td>\n",
              "      <td>5</td>\n",
              "      <td>21.967120</td>\n",
              "    </tr>\n",
              "    <tr>\n",
              "      <th>1</th>\n",
              "      <td>55</td>\n",
              "      <td>156</td>\n",
              "      <td>85.0</td>\n",
              "      <td>140</td>\n",
              "      <td>90</td>\n",
              "      <td>0</td>\n",
              "      <td>5</td>\n",
              "      <td>34.927679</td>\n",
              "    </tr>\n",
              "    <tr>\n",
              "      <th>2</th>\n",
              "      <td>51</td>\n",
              "      <td>165</td>\n",
              "      <td>64.0</td>\n",
              "      <td>130</td>\n",
              "      <td>70</td>\n",
              "      <td>1</td>\n",
              "      <td>6</td>\n",
              "      <td>23.507805</td>\n",
              "    </tr>\n",
              "    <tr>\n",
              "      <th>3</th>\n",
              "      <td>48</td>\n",
              "      <td>169</td>\n",
              "      <td>82.0</td>\n",
              "      <td>150</td>\n",
              "      <td>100</td>\n",
              "      <td>1</td>\n",
              "      <td>0</td>\n",
              "      <td>28.710479</td>\n",
              "    </tr>\n",
              "    <tr>\n",
              "      <th>4</th>\n",
              "      <td>47</td>\n",
              "      <td>156</td>\n",
              "      <td>56.0</td>\n",
              "      <td>100</td>\n",
              "      <td>60</td>\n",
              "      <td>0</td>\n",
              "      <td>9</td>\n",
              "      <td>23.011177</td>\n",
              "    </tr>\n",
              "    <tr>\n",
              "      <th>8</th>\n",
              "      <td>59</td>\n",
              "      <td>151</td>\n",
              "      <td>67.0</td>\n",
              "      <td>120</td>\n",
              "      <td>80</td>\n",
              "      <td>2</td>\n",
              "      <td>3</td>\n",
              "      <td>29.384676</td>\n",
              "    </tr>\n",
              "    <tr>\n",
              "      <th>9</th>\n",
              "      <td>60</td>\n",
              "      <td>157</td>\n",
              "      <td>93.0</td>\n",
              "      <td>130</td>\n",
              "      <td>80</td>\n",
              "      <td>2</td>\n",
              "      <td>0</td>\n",
              "      <td>37.729725</td>\n",
              "    </tr>\n",
              "    <tr>\n",
              "      <th>12</th>\n",
              "      <td>61</td>\n",
              "      <td>178</td>\n",
              "      <td>95.0</td>\n",
              "      <td>130</td>\n",
              "      <td>90</td>\n",
              "      <td>0</td>\n",
              "      <td>5</td>\n",
              "      <td>29.983588</td>\n",
              "    </tr>\n",
              "    <tr>\n",
              "      <th>13</th>\n",
              "      <td>48</td>\n",
              "      <td>158</td>\n",
              "      <td>71.0</td>\n",
              "      <td>110</td>\n",
              "      <td>70</td>\n",
              "      <td>2</td>\n",
              "      <td>5</td>\n",
              "      <td>28.440955</td>\n",
              "    </tr>\n",
              "    <tr>\n",
              "      <th>14</th>\n",
              "      <td>54</td>\n",
              "      <td>164</td>\n",
              "      <td>68.0</td>\n",
              "      <td>110</td>\n",
              "      <td>60</td>\n",
              "      <td>2</td>\n",
              "      <td>4</td>\n",
              "      <td>25.282570</td>\n",
              "    </tr>\n",
              "  </tbody>\n",
              "</table>\n",
              "</div>\n",
              "      <button class=\"colab-df-convert\" onclick=\"convertToInteractive('df-c5e070cb-57c2-4f7e-b0ac-6802d530b042')\"\n",
              "              title=\"Convert this dataframe to an interactive table.\"\n",
              "              style=\"display:none;\">\n",
              "        \n",
              "  <svg xmlns=\"http://www.w3.org/2000/svg\" height=\"24px\"viewBox=\"0 0 24 24\"\n",
              "       width=\"24px\">\n",
              "    <path d=\"M0 0h24v24H0V0z\" fill=\"none\"/>\n",
              "    <path d=\"M18.56 5.44l.94 2.06.94-2.06 2.06-.94-2.06-.94-.94-2.06-.94 2.06-2.06.94zm-11 1L8.5 8.5l.94-2.06 2.06-.94-2.06-.94L8.5 2.5l-.94 2.06-2.06.94zm10 10l.94 2.06.94-2.06 2.06-.94-2.06-.94-.94-2.06-.94 2.06-2.06.94z\"/><path d=\"M17.41 7.96l-1.37-1.37c-.4-.4-.92-.59-1.43-.59-.52 0-1.04.2-1.43.59L10.3 9.45l-7.72 7.72c-.78.78-.78 2.05 0 2.83L4 21.41c.39.39.9.59 1.41.59.51 0 1.02-.2 1.41-.59l7.78-7.78 2.81-2.81c.8-.78.8-2.07 0-2.86zM5.41 20L4 18.59l7.72-7.72 1.47 1.35L5.41 20z\"/>\n",
              "  </svg>\n",
              "      </button>\n",
              "      \n",
              "  <style>\n",
              "    .colab-df-container {\n",
              "      display:flex;\n",
              "      flex-wrap:wrap;\n",
              "      gap: 12px;\n",
              "    }\n",
              "\n",
              "    .colab-df-convert {\n",
              "      background-color: #E8F0FE;\n",
              "      border: none;\n",
              "      border-radius: 50%;\n",
              "      cursor: pointer;\n",
              "      display: none;\n",
              "      fill: #1967D2;\n",
              "      height: 32px;\n",
              "      padding: 0 0 0 0;\n",
              "      width: 32px;\n",
              "    }\n",
              "\n",
              "    .colab-df-convert:hover {\n",
              "      background-color: #E2EBFA;\n",
              "      box-shadow: 0px 1px 2px rgba(60, 64, 67, 0.3), 0px 1px 3px 1px rgba(60, 64, 67, 0.15);\n",
              "      fill: #174EA6;\n",
              "    }\n",
              "\n",
              "    [theme=dark] .colab-df-convert {\n",
              "      background-color: #3B4455;\n",
              "      fill: #D2E3FC;\n",
              "    }\n",
              "\n",
              "    [theme=dark] .colab-df-convert:hover {\n",
              "      background-color: #434B5C;\n",
              "      box-shadow: 0px 1px 3px 1px rgba(0, 0, 0, 0.15);\n",
              "      filter: drop-shadow(0px 1px 2px rgba(0, 0, 0, 0.3));\n",
              "      fill: #FFFFFF;\n",
              "    }\n",
              "  </style>\n",
              "\n",
              "      <script>\n",
              "        const buttonEl =\n",
              "          document.querySelector('#df-c5e070cb-57c2-4f7e-b0ac-6802d530b042 button.colab-df-convert');\n",
              "        buttonEl.style.display =\n",
              "          google.colab.kernel.accessAllowed ? 'block' : 'none';\n",
              "\n",
              "        async function convertToInteractive(key) {\n",
              "          const element = document.querySelector('#df-c5e070cb-57c2-4f7e-b0ac-6802d530b042');\n",
              "          const dataTable =\n",
              "            await google.colab.kernel.invokeFunction('convertToInteractive',\n",
              "                                                     [key], {});\n",
              "          if (!dataTable) return;\n",
              "\n",
              "          const docLinkHtml = 'Like what you see? Visit the ' +\n",
              "            '<a target=\"_blank\" href=https://colab.research.google.com/notebooks/data_table.ipynb>data table notebook</a>'\n",
              "            + ' to learn more about interactive tables.';\n",
              "          element.innerHTML = '';\n",
              "          dataTable['output_type'] = 'display_data';\n",
              "          await google.colab.output.renderOutput(dataTable, element);\n",
              "          const docLink = document.createElement('div');\n",
              "          docLink.innerHTML = docLinkHtml;\n",
              "          element.appendChild(docLink);\n",
              "        }\n",
              "      </script>\n",
              "    </div>\n",
              "  </div>\n",
              "  "
            ]
          },
          "metadata": {},
          "execution_count": 15
        }
      ]
    },
    {
      "cell_type": "markdown",
      "source": [
        "# Aufgabe 5\n",
        "DUBLIN CORE\n",
        "\n",
        "Fassen Sie die noch fehlenden \"Core Elemente\" unter der Verwendung der verlinkten Codierung-Standards für den vorgestellten Datensatz zusammen. Zusätzliche Informationen zum Datensatz können [hier](https://github.com/Fuenfgeld/2022TeamADataManagementBC/wiki/3.-Datensatz#zus%C3%A4tzliche-beschreibung) entnommen werden.\n",
        "\n",
        "Beispielhafte Codierung-Standards:\n",
        "1. [Thesaurus of Geographic Names (TGN)](http://www.getty.edu/research/tools/vocabularies/tgn/?find=&place=Heidelberg&nation=&prev_page=1&english=Y&popup=P)\n",
        "\n",
        "2. [Date and Time Formats](https://www.w3.org/TR/NOTE-datetime)\n",
        "\n",
        "3. [Media types](https://www.iana.org/assignments/media-types/media-types.xhtml)\n",
        "\n",
        "4. [Codes for the Representation of Names of Languages (ISO 639-2)](https://www.loc.gov/standards/iso639-2/php/code_list.php)\n",
        "\n",
        "5. [List of popular Licenses](https://opensource.org/licenses)"
      ],
      "metadata": {
        "id": "rAjAnwgDeJy6"
      }
    },
    {
      "cell_type": "markdown",
      "source": [
        "### Platz für deine Lösung: \n",
        "\n",
        "1. ID: 7005179 (http://vocab.getty.edu/page/tgn/7005179)\n",
        "2. YYYY-MM-DD ⇒ “2021-05-18”\n",
        "3. text ⇒ csv\n",
        "4. deu \n",
        "5. “copyright owner” ⇒  MIT license"
      ],
      "metadata": {
        "id": "dp9B3c-_gGQJ"
      }
    },
    {
      "cell_type": "markdown",
      "source": [
        "# Aufgabe 6\n",
        "\n",
        "1. Was versteht ihr unter dem Begriff Semantik?\n",
        "\n",
        "2. Wie stehen Semantik und Metadaten in Bezug zueinander?\n",
        "\n",
        "\n",
        "\n",
        "HINWEIS: Semantik = Interpretation von Daten"
      ],
      "metadata": {
        "id": "EtJlmKbRHX3j"
      }
    },
    {
      "cell_type": "markdown",
      "source": [
        "### Platz für deine Lösung zu Aufgabe 6:\n",
        "\n",
        "1. im Prinzip ein “Verständnis” der Daten also der Sinn und Inhalt der Daten\n",
        "\n",
        "2. Semantische Metadaten verleihen den “Daten” eine Bedeutung sodass diese nicht nur durch einen Menschen, sondern auch einer Maschine Interpretiert werden können. Es wird somit ein Kontext geschaffen der kein menschliches Vorwissen benötigt."
      ],
      "metadata": {
        "id": "xVJHDBAyHY1S"
      }
    },
    {
      "cell_type": "markdown",
      "source": [
        "# Aufgabe 7\n",
        "\n",
        "Welche Datenfelder weisen keinen semantischen Hintergrund auf?\n",
        "\n",
        "https://www.kaggle.com/datasets/sulianova/cardiovascular-disease-dataset\n"
      ],
      "metadata": {
        "id": "a0vUjH_UeWlY"
      }
    },
    {
      "cell_type": "markdown",
      "source": [
        "### Deine Lösung zu Aufgabe 7:\n",
        "\n",
        "* Smoking → Wer raucht? Wie viel wird geraucht? Was wird geraucht?\n",
        "* Alcohol intake → Wer trinkt? Wie viel wird getrunken? Was wird getrunken?\n",
        "* Physical activity → Wer? Was ? Wie viel?\n"
      ],
      "metadata": {
        "id": "sO67HsBeeZtZ"
      }
    },
    {
      "cell_type": "markdown",
      "source": [
        "# Aufgabe 8\n",
        "Unter folgenden Link findet Ihr die standardisierte Bezeichnung des Blutdrucks: https://loinc.org/55284-4/\n",
        "\n",
        "1. Wie lautet die Empfehlung von LOINC bzgl. des Blutdrucks? \n",
        "\n",
        "2. Welche LOINC Codes finden sich jeweils für den systolischen und diastolischen Blutdruck?\n",
        "\n",
        "3. In welchen maßeinheiten kann man den Systolischen Blutdruck festhalten\n"
      ],
      "metadata": {
        "id": "Jcz59AiKe-yR"
      }
    },
    {
      "cell_type": "markdown",
      "source": [
        "### Platz für deine Lösung:\n",
        "\n",
        "1. Discouraged 🡪 Nicht den systolischen und diastolischen Blutdruck zusammenfassen als ein Schemaelement\n",
        "2. * 8480-6 🡪 Systolic blood pressure\n",
        "   * 8462-4 🡪 Daistolic blood pressure\n",
        "\n",
        "3. * mm[Hg] 🡪     Example UCUM Units\n",
        "   * Mm Hg 🡪 REGENSTRIEF\n"
      ],
      "metadata": {
        "id": "15ckU0fpg4HT"
      }
    },
    {
      "cell_type": "markdown",
      "source": [
        "# Aufgabe 9\n",
        "\n",
        "Unter folgendem Link findet Ihr eine Klassifizierung der Krankheiten:\n",
        "https://www.icd-code.de/icd/code/ICD-10-GM.html\n",
        "\n",
        "1. Versucht einen ICD-10 Code Wertebereich zu finden der allgemein Herzkrankheiten beschreibt. Welche Wertebereich findet sich?\n",
        "\n",
        "2. Der Datensatz beschreibt somit nur allgemein eine Herzkrankheit aber nicht genau welche. Welcher ICD-10 Code würde eine Primäre Rechtsherzinsuffizienz beschreiben?\n",
        "\n",
        "HINWEIS: Herzkreislaufkrankheiten (Cardiovascular Disease) zählen zu Krankheiten des Kreislaufsystems. \n"
      ],
      "metadata": {
        "id": "zD5pfiwufRE7"
      }
    },
    {
      "cell_type": "markdown",
      "source": [
        "### Platz für deine Lösung:\n",
        "\n",
        "1. I00-I99\n",
        "2. I50.00"
      ],
      "metadata": {
        "id": "dUlaxb3Lg7sG"
      }
    },
    {
      "cell_type": "markdown",
      "source": [
        "# Aufgabe 10\n",
        "\n",
        "\n",
        "1. Durchforstet die Ontologie nach \"Tobacco use and exposure\".\n",
        "2. Versucht durch die Basisklasse \"Tobacco use and exposure\" die Subklasse \"Smoker\" zu finden und notiert bitte die ID der Klasse.\n",
        "3. Würdet Ihr sagen das \"Smoker\" eine korrekte Klassifizierung darstellt oder könnte man noch das Element noch genauer definieren?\n",
        "4. Wie müsste man in den Daten einen moderaten Raucher festhalten, der am Tag 10-19 Zigaretten raucht?\n",
        "\n",
        "\n",
        "→ https://bioportal.bioontology.org/ontologies/SNOMEDCT/?p=classes&conceptid=root\n",
        "\n"
      ],
      "metadata": {
        "id": "QoxMZnaSekgP"
      }
    },
    {
      "cell_type": "markdown",
      "source": [
        "### Platz für deine Lösung zu Aufgabe 10:\n",
        "\n",
        "1. https://bioportal.bioontology.org/ontologies/SNOMEDCT/?p=classes&conceptid=http%3A%2F%2Fpurl.bioontology.org%2Fontology%2FSNOMEDCT%2F229819007&jump_to_nav=true\n",
        "2. * https://bioportal.bioontology.org/ontologies/SNOMEDCT?p=classes&conceptid=http%3A%2F%2Fpurl.bioontology.org%2Fontology%2FSNOMEDCT%2F77176002#details\n",
        "   * 77176002\n",
        "\n",
        "3. Es fehlt der Kontext\n",
        "4. * Moderate cigarette smoker (10-19 cigs/day)\n",
        "   * https://bioportal.bioontology.org/ontologies/SNOMEDCT/?p=classes&conceptid=http%3A%2F%2Fpurl.bioontology.org%2Fontology%2FSNOMEDCT%2F160604004#details\n"
      ],
      "metadata": {
        "id": "kZGDZqCogwcv"
      }
    }
  ]
}