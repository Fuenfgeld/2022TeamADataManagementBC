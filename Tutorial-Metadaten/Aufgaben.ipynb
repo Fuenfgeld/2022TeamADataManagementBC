{
  "nbformat": 4,
  "nbformat_minor": 0,
  "metadata": {
    "colab": {
      "name": "Aufgaben.ipynb",
      "provenance": [],
      "authorship_tag": "ABX9TyNKdfboaXDw3BIMZk6ByRDC",
      "include_colab_link": true
    },
    "kernelspec": {
      "name": "python3",
      "display_name": "Python 3"
    },
    "language_info": {
      "name": "python"
    }
  },
  "cells": [
    {
      "cell_type": "markdown",
      "metadata": {
        "id": "view-in-github",
        "colab_type": "text"
      },
      "source": [
        "<a href=\"https://colab.research.google.com/github/Fuenfgeld/2022TeamADataManagementBC/blob/main/Tutorial-Metadaten/Aufgaben.ipynb\" target=\"_parent\"><img src=\"https://colab.research.google.com/assets/colab-badge.svg\" alt=\"Open In Colab\"/></a>"
      ]
    },
    {
      "cell_type": "markdown",
      "source": [
        "# AUFGABE 2: \n",
        "ERSTE EXPLORATIVE ANALYSE DES DATENSATZES\n",
        "\n",
        "Schaut euch den nachfolgenden Datensatz an: \n",
        "https://www.kaggle.com/datasets/sulianova/cardiovascular-disease-dataset\n",
        "\n",
        "Versuche nun zunächst die folgenden allgemeinen Fragen zu beantworten:\n",
        "\n",
        "1. Wer besitzt die Daten\n",
        "2. Woher kommen die Daten?\n",
        "3. Zugriffrechte der Daten / Welche Lizenz?\n",
        "4. Wo werden die Daten genutzt/geteilt?\n",
        "5. Benutzung / Verwendung der Daten?\n",
        "6. Wann wurden die Daten erstellt/geändert?\n",
        "7.**bold text** Datum der einzelnen Messungen vorhanden?"
      ],
      "metadata": {
        "id": "RX0TkE1edwsE"
      }
    },
    {
      "cell_type": "markdown",
      "source": [
        "### Platz für deine Lösung:\n",
        "\n",
        "1. \n",
        "2. \n",
        "3. \n",
        "4. \n",
        "5. \n",
        "6. \n",
        "7. "
      ],
      "metadata": {
        "id": "Y7UVlj9wd0dd"
      }
    },
    {
      "cell_type": "markdown",
      "source": [
        "# AUFGABE 4: \n",
        "WEITERE “VERSTECKTE” METADATEN\n",
        "\n",
        "Es gibt noch weitere Daten, die nicht direkt ersichtlich sind, sich aber aus dem Datensatz generieren lassen. \n",
        "\n",
        "1. Welche Daten könnte man aus den Spalten “Körpergröße” und “Gewicht” ermitteln? \n",
        "\n",
        "2. Führe die nachfolgenden Code-Schritte aus. Berechne anschließend die Daten aus 1. und erweitere anschließend die Tabelle um eine weitere Spalte mit den neu generierten Daten."
      ],
      "metadata": {
        "id": "Kw_wQ0kKd3CW"
      }
    },
    {
      "cell_type": "markdown",
      "source": [
        "### Deine Lösung:\n",
        "\n",
        "1. "
      ],
      "metadata": {
        "id": "jkMGZXUzd5jS"
      }
    },
    {
      "cell_type": "markdown",
      "source": [
        "### Deine Lösung zu 2.:"
      ],
      "metadata": {
        "id": "UDd9pIk4d748"
      }
    },
    {
      "cell_type": "code",
      "source": [
        "# importieren der notwendigen Libraries\n",
        "import pandas as pd\n",
        "import numpy as np\n",
        "import matplotlib.pyplot as plt\n",
        "\n",
        "# Datensatz laden\n",
        "df = pd.read_csv(\"./data/new_data.csv\", sep = ',', index_col = 0)\n",
        "\n",
        "# Betrachten der ersten 5 Zeilen des für diesen Kurs angepassten Datensatzes\n",
        "df.head(5)"
      ],
      "metadata": {
        "id": "swhqIZ6Yd-IY"
      },
      "execution_count": null,
      "outputs": []
    },
    {
      "cell_type": "code",
      "source": [
        "# Füge hier deine Lösung ein\n",
        "\n",
        "\n"
      ],
      "metadata": {
        "id": "Pe1BUgz5eG5z"
      },
      "execution_count": null,
      "outputs": []
    },
    {
      "cell_type": "markdown",
      "source": [
        "# Aufgabe 5\n",
        "DUBLIN CORE\n",
        "\n",
        "Fassen Sie die noch fehlenden \"Core Elemente\" unter der Verwendung der verlinkten Codierung-Standards für den vorgestellten Datensatz zusammen. Zusätzliche Informationen zum Datensatz können [hier](https://github.com/Fuenfgeld/2022TeamADataManagementBC/wiki/3.-Datensatz#zus%C3%A4tzliche-beschreibung) entnommen werden.\n",
        "\n",
        "Beispielhafte Codierung-Standards:\n",
        "- [Thesaurus of Geographic Names (TGN)](http://www.getty.edu/research/tools/vocabularies/tgn/?find=&place=Heidelberg&nation=&prev_page=1&english=Y&popup=P)\n",
        "\n",
        "- [Date and Time Formats](https://www.w3.org/TR/NOTE-datetime)\n",
        "\n",
        "- [Media types](https://www.iana.org/assignments/media-types/media-types.xhtml)\n",
        "\n",
        "- [Codes for the Representation of Names of Languages (ISO 639-2)](https://www.loc.gov/standards/iso639-2/php/code_list.php)\n",
        "\n",
        "- [List of popular Licenses](https://opensource.org/licenses)"
      ],
      "metadata": {
        "id": "rAjAnwgDeJy6"
      }
    },
    {
      "cell_type": "markdown",
      "source": [
        "# Aufgabe 7\n",
        "\n",
        "Welche Datenfelder weisen keinen semantischen Hintergrund auf?\n",
        "https://www.kaggle.com/datasets/sulianova/cardiovascular-disease-dataset\n"
      ],
      "metadata": {
        "id": "a0vUjH_UeWlY"
      }
    },
    {
      "cell_type": "markdown",
      "source": [
        "### Deine Lösung zu Aufgabe 7:\n",
        "\n"
      ],
      "metadata": {
        "id": "sO67HsBeeZtZ"
      }
    },
    {
      "cell_type": "markdown",
      "source": [
        "# Aufgabe 8\n",
        "\n",
        "\n",
        "1. Durchforstet die Ontologie nach \"Tobacco use and exposure\".\n",
        "2. Versucht durch die Basisklasse \"Tobacco use and exposure\" die Subklasse \"Smoker\" zu finden und notiert bitte die ID der Klasse.\n",
        "3. Würdet Ihr sagen das \"Smoker\" eine korrekte Klassifizierung darstellt oder könnte man noch das Element noch genauer definieren?\n",
        "4. Wie müsste man in den Daten einen moderaten Raucher festhalten, der am Tag 10-19 Zigaretten raucht?\n",
        "\n",
        "\n",
        "Ontologien/Datenbanken/Klassifikationsliste sind:\n",
        "* SNOMED (https://www.snomed.org/) 🡪 Ontologie\n",
        "* LOINC (https://loinc.org/) 🡪 Datenbank\n",
        "* ICD10 (https://www.icd-code.de/icd/code/ICD-10-GM.html) 🡪 Klassifikationsliste \n",
        "\n"
      ],
      "metadata": {
        "id": "QoxMZnaSekgP"
      }
    },
    {
      "cell_type": "markdown",
      "source": [
        "# Aufgabe 9\n",
        "Unter folgenden Link findet Ihr die standardisierte Bezeichnung des Blutdrucks: https://loinc.org/55284-4/\n",
        "\n",
        "1. Wie lautet die Empfehlung von LOINC bzgl. des Blutdrucks? \n",
        "\n",
        "2. Welche LOINC Codes finden sich jeweils für den systolischen und diastolischen Blutdruck?\n",
        "\n",
        "3. In welchen maßeinheiten kann man den Systolischen Blutdruck festhalten\n"
      ],
      "metadata": {
        "id": "Jcz59AiKe-yR"
      }
    },
    {
      "cell_type": "markdown",
      "source": [
        "# Aufgabe 10\n",
        "\n",
        "Unter folgendem Link findet Ihr eine Klassifizierung der Krankheiten:\n",
        "https://www.icd-code.de/icd/code/ICD-10-GM.html\n",
        "\n",
        "1. Versucht einen ICD-10 Code Wertebereich zu finden der allgemein Herzkrankheiten beschreibt. Welche Werteberich findet sich?\n",
        "\n",
        "2. Der Datensatz beschreibt somit nur allgemein eine Herzkrankheit aber nicht genau welche. Welcher ICD-10 Code würde eine Primäre Rechtsherzinsuffizienz beschreiben?\n",
        "\n",
        "3. Hinweis = Herzkreislaufkrankheiten (Cardiovascular Disease) zählen zu Krankheiten des Kreislaufsystems. \n"
      ],
      "metadata": {
        "id": "zD5pfiwufRE7"
      }
    }
  ]
}