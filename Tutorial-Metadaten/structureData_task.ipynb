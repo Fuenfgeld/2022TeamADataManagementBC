{
 "cells": [
  {
   "cell_type": "markdown",
   "metadata": {
    "colab_type": "text",
    "id": "view-in-github",
    "slideshow": {
     "slide_type": "skip"
    }
   },
   "source": [
    "<a href=\"https://colab.research.google.com/github/Fuenfgeld/2022TeamADataManagementBC/blob/main/Tutorial-Metadaten/structureData_task.ipynb\" target=\"_parent\"><img src=\"https://colab.research.google.com/assets/colab-badge.svg\" alt=\"Open In Colab\"/></a>"
   ]
  },
  {
   "cell_type": "markdown",
   "metadata": {
    "slideshow": {
     "slide_type": "slide"
    }
   },
   "source": [
    "# Strukturelle Daten und Metadatenschema\n",
    "\n",
    "#### REFERENCE MODEL FOR AN OPEN ARCHIVAL INFORMATION SYSTEM (OASI)\n",
    "\n",
    "![REFERENCE MODEL FOR AN\n",
    "OPEN ARCHIVAL\n",
    "INFORMATION SYSTEM (OASI)](data/OASI_chard.jpg)"
   ]
  },
  {
   "cell_type": "markdown",
   "metadata": {
    "slideshow": {
     "slide_type": "subslide"
    }
   },
   "source": [
    "Sturcture Information, definiton by [Open Archival Information System](https://public.ccsds.org/pubs/650x0m2.pdf):\n",
    "\n",
    "- It does this by **describing the format**, or data structure concepts, which are to be applied to the bit sequences and that in turn result in more meaningful values such as characters, numbers, pixels, arrays, tables, etc."
   ]
  },
  {
   "cell_type": "markdown",
   "metadata": {
    "slideshow": {
     "slide_type": "subslide"
    }
   },
   "source": [
    "- These common computer **data types**, **aggregations** of these data types, and **mapping rules** which map from the underlying data types to the higher level concepts needed to understand the Digital Object are referred to as the Structure Information of the Representation Information object."
   ]
  },
  {
   "cell_type": "markdown",
   "metadata": {
    "slideshow": {
     "slide_type": "subslide"
    }
   },
   "source": [
    "Beispiel: \n",
    "- Ein Verweis auf den ASCII-Standard (ISO 9660), um bits in characters zu interpretieren.\n",
    "- Ein Verweis auf ISO/TS 22028-4 (Digital images encoded using eciRGB) um bits in Bilder zu interpretieren."
   ]
  },
  {
   "cell_type": "markdown",
   "metadata": {
    "slideshow": {
     "slide_type": "skip"
    }
   },
   "source": [
    "## import required libraries"
   ]
  },
  {
   "cell_type": "code",
   "execution_count": 2,
   "metadata": {
    "id": "XCqcscCMiob2",
    "slideshow": {
     "slide_type": "skip"
    }
   },
   "outputs": [
    {
     "ename": "ModuleNotFoundError",
     "evalue": "No module named 'pandas'",
     "output_type": "error",
     "traceback": [
      "\u001b[0;31m---------------------------------------------------------------------------\u001b[0m",
      "\u001b[0;31mModuleNotFoundError\u001b[0m                       Traceback (most recent call last)",
      "Input \u001b[0;32mIn [2]\u001b[0m, in \u001b[0;36m<cell line: 1>\u001b[0;34m()\u001b[0m\n\u001b[0;32m----> 1\u001b[0m \u001b[38;5;28;01mimport\u001b[39;00m \u001b[38;5;21;01mpandas\u001b[39;00m \u001b[38;5;28;01mas\u001b[39;00m \u001b[38;5;21;01mpd\u001b[39;00m\n\u001b[1;32m      2\u001b[0m \u001b[38;5;28;01mimport\u001b[39;00m \u001b[38;5;21;01mnumpy\u001b[39;00m \u001b[38;5;28;01mas\u001b[39;00m \u001b[38;5;21;01mnp\u001b[39;00m\n\u001b[1;32m      3\u001b[0m \u001b[38;5;28;01mimport\u001b[39;00m \u001b[38;5;21;01mmatplotlib\u001b[39;00m\u001b[38;5;21;01m.\u001b[39;00m\u001b[38;5;21;01mpyplot\u001b[39;00m \u001b[38;5;28;01mas\u001b[39;00m \u001b[38;5;21;01mplt\u001b[39;00m\n",
      "\u001b[0;31mModuleNotFoundError\u001b[0m: No module named 'pandas'"
     ]
    }
   ],
   "source": [
    "import pandas as pd\n",
    "import numpy as np\n",
    "import matplotlib.pyplot as plt"
   ]
  },
  {
   "cell_type": "markdown",
   "metadata": {
    "slideshow": {
     "slide_type": "slide"
    }
   },
   "source": [
    "## Data exploration\n",
    "\n",
    "Orginal Daten können, wie angesprochen unter https://www.kaggle.com/datasets/sulianova/cardiovascular-disease-datasetOr\n",
    "gefunden werden.\n",
    "\n",
    "Features:\n",
    "\n",
    "-    Age | Objective Feature | age | int (days)\n",
    "-    Height | Objective Feature | height | int (cm) |\n",
    "-    Weight | Objective Feature | weight | float (kg) |\n",
    "-    Systolic blood pressure | Examination Feature | ap_hi | int |\n",
    "-    Diastolic blood pressure | Examination Feature | ap_lo | int |\n",
    "-    Smoking | Subjective Feature | smoke | 0-2 |\n",
    "-    Presence or absence of cardiovascular disease | Target Variable | cardio | 0-9 |"
   ]
  },
  {
   "cell_type": "code",
   "execution_count": null,
   "metadata": {
    "id": "eY1vDr3ajjLH",
    "slideshow": {
     "slide_type": "subslide"
    }
   },
   "outputs": [],
   "source": [
    "df = pd.read_csv(\"./data/new_data.csv\", sep = ',', index_col = 0)"
   ]
  },
  {
   "cell_type": "code",
   "execution_count": 19,
   "metadata": {
    "colab": {
     "base_uri": "https://localhost:8080/",
     "height": 423
    },
    "id": "CYAT35lZlTXL",
    "outputId": "77250e23-7fe8-490d-eabd-1e78d6876ec6",
    "slideshow": {
     "slide_type": "subslide"
    }
   },
   "outputs": [
    {
     "data": {
      "text/html": [
       "<div>\n",
       "<style scoped>\n",
       "    .dataframe tbody tr th:only-of-type {\n",
       "        vertical-align: middle;\n",
       "    }\n",
       "\n",
       "    .dataframe tbody tr th {\n",
       "        vertical-align: top;\n",
       "    }\n",
       "\n",
       "    .dataframe thead th {\n",
       "        text-align: right;\n",
       "    }\n",
       "</style>\n",
       "<table border=\"1\" class=\"dataframe\">\n",
       "  <thead>\n",
       "    <tr style=\"text-align: right;\">\n",
       "      <th></th>\n",
       "      <th>age</th>\n",
       "      <th>height</th>\n",
       "      <th>weight</th>\n",
       "      <th>ap_hi</th>\n",
       "      <th>ap_lo</th>\n",
       "      <th>smoke</th>\n",
       "      <th>cardio</th>\n",
       "    </tr>\n",
       "    <tr>\n",
       "      <th>id</th>\n",
       "      <th></th>\n",
       "      <th></th>\n",
       "      <th></th>\n",
       "      <th></th>\n",
       "      <th></th>\n",
       "      <th></th>\n",
       "      <th></th>\n",
       "    </tr>\n",
       "  </thead>\n",
       "  <tbody>\n",
       "    <tr>\n",
       "      <td>0</td>\n",
       "      <td>50</td>\n",
       "      <td>168</td>\n",
       "      <td>62.0</td>\n",
       "      <td>110</td>\n",
       "      <td>80</td>\n",
       "      <td>2</td>\n",
       "      <td>5</td>\n",
       "    </tr>\n",
       "    <tr>\n",
       "      <td>1</td>\n",
       "      <td>55</td>\n",
       "      <td>156</td>\n",
       "      <td>85.0</td>\n",
       "      <td>140</td>\n",
       "      <td>90</td>\n",
       "      <td>0</td>\n",
       "      <td>5</td>\n",
       "    </tr>\n",
       "    <tr>\n",
       "      <td>2</td>\n",
       "      <td>51</td>\n",
       "      <td>165</td>\n",
       "      <td>64.0</td>\n",
       "      <td>130</td>\n",
       "      <td>70</td>\n",
       "      <td>1</td>\n",
       "      <td>6</td>\n",
       "    </tr>\n",
       "    <tr>\n",
       "      <td>3</td>\n",
       "      <td>48</td>\n",
       "      <td>169</td>\n",
       "      <td>82.0</td>\n",
       "      <td>150</td>\n",
       "      <td>100</td>\n",
       "      <td>1</td>\n",
       "      <td>0</td>\n",
       "    </tr>\n",
       "    <tr>\n",
       "      <td>4</td>\n",
       "      <td>47</td>\n",
       "      <td>156</td>\n",
       "      <td>56.0</td>\n",
       "      <td>100</td>\n",
       "      <td>60</td>\n",
       "      <td>0</td>\n",
       "      <td>9</td>\n",
       "    </tr>\n",
       "  </tbody>\n",
       "</table>\n",
       "</div>"
      ],
      "text/plain": [
       "    age  height  weight  ap_hi  ap_lo  smoke  cardio\n",
       "id                                                  \n",
       "0    50     168    62.0    110     80      2       5\n",
       "1    55     156    85.0    140     90      0       5\n",
       "2    51     165    64.0    130     70      1       6\n",
       "3    48     169    82.0    150    100      1       0\n",
       "4    47     156    56.0    100     60      0       9"
      ]
     },
     "execution_count": 19,
     "metadata": {},
     "output_type": "execute_result"
    }
   ],
   "source": [
    "df.head(5)"
   ]
  },
  {
   "cell_type": "markdown",
   "metadata": {
    "slideshow": {
     "slide_type": "slide"
    }
   },
   "source": [
    "## Was bedeuten diese Daten?\n",
    "\n",
    "![Was bedeuten diese Daten?](data/metadata_question.jpg)"
   ]
  },
  {
   "cell_type": "markdown",
   "metadata": {
    "slideshow": {
     "slide_type": "subslide"
    }
   },
   "source": [
    "![Questions?](data/question.jpg)"
   ]
  },
  {
   "cell_type": "markdown",
   "metadata": {
    "slideshow": {
     "slide_type": "subslide"
    }
   },
   "source": [
    "### Metadatenschema\n",
    "- Es gibt viele Arten von Metadatenstandards/-schemata(generisch/domänenspezifisch).\n",
    "- Generische: [Dublin Core](https://www.dublincore.org/), [MODS](http://format.gbv.de/mods) (Metadata Object Description Schema) sind in der Regel einfach zu verwenden und weit verbreitet, müssen jedoch häufig erweitert werden, um spezifischere Informationen abzudecken.\n",
    "- Domänenspezifische Schemata: Haben ein viel reichhaltigeres Vokabular und eine viel umfangreichere Struktur, sind jedoch in der Regel hochspezialisiert und nur für Forscher auf diesem Gebiet verständlich. [Beispiele here](https://fairsharing.org/search?fairsharingRegistry=Standard)"
   ]
  },
  {
   "cell_type": "markdown",
   "metadata": {
    "slideshow": {
     "slide_type": "slide"
    }
   },
   "source": [
    "## [Dublin Core](https://www.dublincore.org/specifications/dublin-core/dcmi-terms/#section-1)\n",
    "\n",
    "- Dublin Core geht auf die sogenannte Dublin Core Metadata Initiative(DCMI)\n",
    "- 1994 in Chicago gegründet\n",
    "- 1995 in Dublin einheitliche Standards zur Auszeichnung von Metaangaben definiert.\n",
    "- Ziel: Suchmaschinen das Durchsuchen von Dokumenten zu erleichtern, indem wichtige Inhalte bereits in den Metadaten hinterlegt sind. \n",
    "- Verwendung wo Suchmaschinen genutzt werden: Internet, Bibliotheken, Verwaltungen oder Museen.\n",
    "- Heute werden die Standards von einer Gruppe aus Freiwilligen weiter bearbeitet. "
   ]
  },
  {
   "cell_type": "markdown",
   "metadata": {
    "slideshow": {
     "slide_type": "slide"
    }
   },
   "source": [
    "### Einteilung in 15 core elements [here](https://www.dublincore.org/specifications/dublin-core/dcmi-terms/):\n",
    "- contributor\n",
    "- coverage\n",
    "- creator\n",
    "- date\n",
    "- description\n",
    "- format\n",
    "- identifier\n",
    "- language\n",
    "- publisher\n",
    "- relation\n",
    "- rights\n",
    "- source"
   ]
  },
  {
   "cell_type": "markdown",
   "metadata": {
    "slideshow": {
     "slide_type": "subslide"
    }
   },
   "source": [
    "- **contributor (Beitragende)** *WHO?*: <br>\n",
    "Nennen der Person(en) oder Organisation(en), die bei der Erstellung der Ressource (Content) mitgewirkt haben.\n",
    "   \n",
    "- **coverage (Ort und Zeit)** *WHERE/WHEN?*: <br>\n",
    "An dieser Stelle werden Informationen zum [Ort](http://www.getty.edu/research/tools/vocabularies/tgn/?find=&place=Heidelberg&nation=&prev_page=1&english=Y&popup=P) und zeitlichen Gültigkeitsbereich abgelegt. Hierbei sollen für Orte die gültigen Namen und für die temporäre Dauer Zeitintervalle (z.B. 07.07 - 12.07) verwendet werden.\n",
    "    \n",
    "- **creator (Ersteller)** *WHO?*: <br>\n",
    "Nennen des ursprünglichen Autors einer Ressource. Autoren können Person(en) und Organisation(en) sein."
   ]
  },
  {
   "cell_type": "markdown",
   "metadata": {
    "slideshow": {
     "slide_type": "subslide"
    }
   },
   "source": [
    "- **[date (Datum)](https://www.w3.org/TR/NOTE-datetime)** *WHEN?*:<br>\n",
    "Hinterlegen von Informationen bezüglich Erstellungsdatum, Änderungsdatum, Sperrfrist und Löschdatum.\n",
    "    \n",
    "- **description (Beschreibung)** *WHY/WHAT?*:<br>\n",
    "Zusätzliche Informationen, die die Ressource noch näher beschreiben. Hierzu zählen z.B. eine Kurzfassung oder ein Inhaltsverzeichnis.\n",
    "    \n",
    "- **format (Format)** *WHAT/HOW?*:<br>\n",
    "Angaben zum [MIME-Typ](https://www.iana.org/assignments/media-types/media-types.xhtml) der Ressource wie Pixelgröße, Dateiformat, Bearbeitungsdauer, usw."
   ]
  },
  {
   "cell_type": "markdown",
   "metadata": {
    "slideshow": {
     "slide_type": "subslide"
    }
   },
   "source": [
    "- **identifier (Identifizierer)** *WHAT?*: <br>\n",
    "Dieses Element enthält einen eindeutigen Bezeichner für die Ressource z.B. eine URL([DOI](https://www.doi.org/)), Artikelnummer oder UID.\n",
    "    \n",
    "- **language (Sprache)** *WHAT/HOW?*:<br>\n",
    "Hinterlegen eines Sprachecodes. Hierfür sollen Sprachcodes nach [ISO 639](https://www.loc.gov/standards/iso639-2/php/code_list.php) oder RFC 3066 verwendet werden.\n",
    "    \n",
    "- **publisher (Verlag/Herausgeber)** *WHO?*: <br>\n",
    "Enthält Informationen über den Verleger. Der Verleger können Person(en) oder Organisation(en) sein."
   ]
  },
  {
   "cell_type": "markdown",
   "metadata": {
    "slideshow": {
     "slide_type": "subslide"
    }
   },
   "source": [
    "- **relation (Beziehungen)** *WHAT?*:<br>\n",
    "Hier werden Informationen über Beziehungen zu anderen Ressourcen festgehalten.\n",
    "    \n",
    "- **rights (Rechte)** *WHO/WHERE?*: <br>\n",
    "An dieser Stelle werden Informationen bezüglich den Rechten an Ressourcen hinterlegt. Zum Beispiel über den Urheber oder die [Lizenzart](https://opensource.org/licenses) (GPL, LGPL, ZPL usw.).\n",
    "   \n",
    "- **source (Quelle)** *WHAT?*: <br>\n",
    "Eine verwandte Ressource, von der die beschriebene Ressource abgeleitet ist. Die beschriebene Ressource kann ganz oder teilweise von der verwandten Ressource abgeleitet sein."
   ]
  },
  {
   "cell_type": "markdown",
   "metadata": {
    "slideshow": {
     "slide_type": "subslide"
    }
   },
   "source": [
    "    \n",
    "- **subject (Stichwörter)**  *WHAT?*:<br>\n",
    "Hier können Stichwörter oder ganze identifizierende Phrasen zu einer Ressource hinterlegt werden.\n",
    "    \n",
    "- **title (Titel)**  *WHAT?*:<br>\n",
    "Hinterlegen des Ressourcentitels (z.B. Dokumenttitel).\n",
    "    \n",
    "- **[type (Typ)](https://www.dublincore.org/specifications/dublin-core/dcmi-terms/#section-7)**  *WHAT/HOW?*:<br>\n",
    "Über den Typ wird einer Ressource eine Medienkategorie wie Bild, Artikel, Ordner usw. zugeordnet."
   ]
  },
  {
   "cell_type": "markdown",
   "metadata": {
    "slideshow": {
     "slide_type": "slide"
    }
   },
   "source": [
    "### Aufgabe\n",
    "\n",
    "Fassen Sie die noch fehlenden \"Core Elemente\" unter der Verwendung der verlinkten Codierung-Standards für den vorgestellten Datensatz zusammen. Zusätzliche Informationen zum Datensatz können [hier](https://github.com/Fuenfgeld/2022TeamADataManagementBC/wiki/3.-Datensatz#zus%C3%A4tzliche-beschreibung) entnommen werden.\n",
    "\n",
    "Beispielhafte Codierung-Standards:\n",
    "- [Thesaurus of Geographic Names (TGN)](http://www.getty.edu/research/tools/vocabularies/tgn/?find=&place=Heidelberg&nation=&prev_page=1&english=Y&popup=P)\n",
    "\n",
    "- [Date and Time Formats](https://www.w3.org/TR/NOTE-datetime)\n",
    "\n",
    "- [Media types](https://www.iana.org/assignments/media-types/media-types.xhtml)\n",
    "\n",
    "- [Codes for the Representation of Names of Languages (ISO 639-2)](https://www.loc.gov/standards/iso639-2/php/code_list.php)\n",
    "\n",
    "- [List of popular Licenses](https://opensource.org/licenses)"
   ]
  },
  {
   "cell_type": "markdown",
   "metadata": {
    "slideshow": {
     "slide_type": "slide"
    }
   },
   "source": [
    "### XML-Schme\n",
    "\n",
    "- [Guidlines](https://www.dublincore.org/specifications/dublin-core/dc-xml-guidelines/2003-04-02/)\n",
    "- Unterschied **Simple** und **Qulified** Dublin Core"
   ]
  },
  {
   "cell_type": "markdown",
   "metadata": {
    "slideshow": {
     "slide_type": "subslide"
    }
   },
   "source": [
    "#### Simple Dublin Core\n",
    "\n",
    "- Besteht aus einer oder mehreren Eigenschaften und den zugehörigen Werten.\n",
    "- Jede Eigenschaft ist ein Attribut der beschriebenen Ressource.\n",
    "- Jede Eigenschaft muss eines der 15 DCMES [DCMES]-Elemente sein.\n",
    "- Eigenschaften können wiederholt werden.\n",
    "- Jeder Wert ist ein String.\n",
    "- Jeder String-Wert kann eine zugeordnete Sprache haben (z.B. en-GB).\n"
   ]
  },
  {
   "cell_type": "markdown",
   "metadata": {
    "slideshow": {
     "slide_type": "subslide"
    }
   },
   "source": [
    "```xml\n",
    "<?xml version=\"1.0\"?>\n",
    "\n",
    "<metadata\n",
    "  xmlns=\"http://example.org/myapp/\"\n",
    "  xmlns:xsi=\"http://www.w3.org/2001/XMLSchema-instance\"\n",
    "  xsi:schemaLocation=\"http://example.org/myapp/ http://example.org/myapp/schema.xsd\"\n",
    "  xmlns:dc=\"http://purl.org/dc/elements/1.1/\">\n",
    "\n",
    "  <dc:title>\n",
    "    UKOLN\n",
    "  </dc:title>\n",
    "  <dc:description>\n",
    "    UKOLN is a national focus of expertise in digital information\n",
    "    management. It provides policy, research and awareness services\n",
    "    to the UK library, information and cultural heritage communities.\n",
    "    UKOLN is based at the University of Bath.\n",
    "  </dc:description>\n",
    "  <dc:publisher>\n",
    "    UKOLN, University of Bath\n",
    "  </dc:publisher>\n",
    "  <dc:identifier>\n",
    "    http://www.ukoln.ac.uk/\n",
    "  </dc:identifier>\n",
    "\n",
    "</metadata>\n",
    "```"
   ]
  },
  {
   "cell_type": "markdown",
   "metadata": {
    "slideshow": {
     "slide_type": "subslide"
    }
   },
   "source": [
    "#### Qualified Dublin Core\n",
    "\n",
    "\n",
    "- Besteht aus einer oder mehreren Eigenschaften und den zugehörigen Werten. **✓**\n",
    "- Jede Eigenschaft ist ein Attribut der beschriebenen Ressource. **✓**\n",
    "- Jede Eigenschaft muss entweder:\n",
    "    - eines der 15 DC-Elemente, **✓**\n",
    "    - eines der anderen vom DCMI empfohlenen Elemente (z. B. Publikum) [DCTERMS],\n",
    "    - eine der Elementverfeinerungen, die in der Empfehlung der DCMI-Metadatenbedingungen [DCTERMS] aufgeführt sind.\n",
    "- Eigenschaften können wiederholt werden. **✓**\n",
    "- Jeder Wert ist eine String. **✓**\n",
    "- Jeder Wert kann ein zugeordnetes Codierungsschema haben.\n",
    "- Jedes Kodierungsschema hat einen Namen.\n",
    "- Jeder String-Wert kann eine zugeordnete Sprache haben (z. B. en-GB). **✓**\n"
   ]
  },
  {
   "cell_type": "markdown",
   "metadata": {
    "slideshow": {
     "slide_type": "subslide"
    }
   },
   "source": [
    "```xml\n",
    "<?xml version=\"1.0\"?>\n",
    "\n",
    "<metadata\n",
    "  xmlns=\"http://example.org/myapp/\"\n",
    "  xmlns:xsi=\"http://www.w3.org/2001/XMLSchema-instance\"\n",
    "  xsi:schemaLocation=\"http://example.org/myapp/ http://example.org/myapp/schema.xsd\"\n",
    "  xmlns:dc=\"http://purl.org/dc/elements/1.1/\"\n",
    "  xmlns:dcterms=\"http://purl.org/dc/terms/\">\n",
    "\n",
    "  <dc:title>\n",
    "    UKOLN\n",
    "  </dc:title>\n",
    "  <dcterms:alternative>\n",
    "    UK Office for Library and Information Networking\n",
    "  </dcterms:alternative>\n",
    "  <dc:subject>\n",
    "    national centre, network information support, library\n",
    "    community, awareness, research, information services,public\n",
    "    library networking, bibliographic management, distributed\n",
    "    library systems, metadata, resource discovery,\n",
    "    conferences,lectures, workshops\n",
    "  </dc:subject>\n",
    "  <dc:subject xsi:type=\"dcterms:DDC\">\n",
    "    062\n",
    "  </dc:subject>\n",
    "  <dc:subject xsi:type=\"dcterms:UDC\">\n",
    "    061(410)\n",
    "  </dc:subject>\n",
    "  <dc:description>\n",
    "    UKOLN is a national focus of expertise in digital information\n",
    "    management. It provides policy, research and awareness services\n",
    "    to the UK library, information and cultural heritage communities.\n",
    "    UKOLN is based at the University of Bath.\n",
    "  </dc:description>\n",
    "  <dc:description xml:lang=\"fr\">\n",
    "    UKOLN est un centre national d'expertise dans la gestion de l'information\n",
    "    digitale.\n",
    "  </dc:description>\n",
    "  <dc:publisher>\n",
    "    UKOLN, University of Bath\n",
    "  </dc:publisher>\n",
    "  <dcterms:isPartOf xsi:type=\"dcterms:URI\">\n",
    "    http://www.bath.ac.uk/\n",
    "  </dcterms:isPartOf>\n",
    "  <dc:identifier xsi:type=\"dcterms:URI\">\n",
    "    http://www.ukoln.ac.uk/\n",
    "  </dc:identifier>\n",
    "  <dcterms:modified xsi:type=\"dcterms:W3CDTF\">\n",
    "    2001-07-18\n",
    "  </dcterms:modified>\n",
    "  <dc:format xsi:type=\"dcterms:IMT\">\n",
    "    text/html\n",
    "  </dc:format>\n",
    "  <dcterms:extent>\n",
    "    14 Kbytes\n",
    "  </dcterms:extent>\n",
    "\n",
    "</metadata>\n",
    "```"
   ]
  }
 ],
 "metadata": {
  "celltoolbar": "Slideshow",
  "colab": {
   "authorship_tag": "ABX9TyO61sd9QmXpqhOYSSjfm6c9",
   "collapsed_sections": [],
   "include_colab_link": true,
   "name": "DataManagementBootcamp.ipynb",
   "provenance": []
  },
  "kernelspec": {
   "display_name": "Python 3 (ipykernel)",
   "language": "python",
   "name": "python3"
  },
  "language_info": {
   "codemirror_mode": {
    "name": "ipython",
    "version": 3
   },
   "file_extension": ".py",
   "mimetype": "text/x-python",
   "name": "python",
   "nbconvert_exporter": "python",
   "pygments_lexer": "ipython3",
   "version": "3.8.10"
  }
 },
 "nbformat": 4,
 "nbformat_minor": 1
}
