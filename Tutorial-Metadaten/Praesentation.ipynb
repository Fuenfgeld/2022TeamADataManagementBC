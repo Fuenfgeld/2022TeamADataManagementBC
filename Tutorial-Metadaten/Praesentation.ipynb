{
 "cells": [
  {
   "cell_type": "markdown",
   "metadata": {},
   "source": [
    "<a href=\"https://colab.research.google.com/github/Fuenfgeld/2022TeamADataManagementBC/blob/main/Tutorial-Metadaten/Praesentation.ipynb\" target=\"_parent\"><img src=\"https://colab.research.google.com/assets/colab-badge.svg\" alt=\"Open In Colab\"/></a>"
   ]
  },
  {
   "cell_type": "markdown",
   "metadata": {
    "slideshow": {
     "slide_type": "slide"
    }
   },
   "source": [
    "# Metadaten\n",
    "Gruppe: \n",
    "- Lukas Burger\n",
    "- Nina Dreher\n",
    "- Shayan Mohajerani"
   ]
  },
  {
   "cell_type": "markdown",
   "metadata": {
    "slideshow": {
     "slide_type": "slide"
    }
   },
   "source": [
    "\n",
    "*“Metadaten sind strukturierte Informationen, die beschreiben, erklären,\n",
    "lokalisieren, oder es sonstwie einfacher machen, eine\n",
    "Informationsquelle abzurufen, zu verwenden, oder zu verwalten.\n",
    "Metadaten werden oft Daten zu bestimmten Daten oder Informationen\n",
    "zu bestimmten Informationen genannt.”* \n",
    "-- National Information Standards Organization\n",
    "\n",
    "[http://www.niso.org/publications/understanding-metadata-2017](http://www.niso.org/publications/understanding-metadata-2017)"
   ]
  },
  {
   "cell_type": "markdown",
   "metadata": {
    "slideshow": {
     "slide_type": "slide"
    }
   },
   "source": [
    "## Metadaten \n",
    "Liefern Informationen über:\n",
    "* Daten (Dokumente, Bilder, Datensätze)\n",
    "* Konzepte (Klassifikationen)\n",
    "* reale Begebenheiten (Personen, Organisationen, Standorte, Bilder)"
   ]
  },
  {
   "cell_type": "markdown",
   "metadata": {
    "slideshow": {
     "slide_type": "slide"
    }
   },
   "source": [
    "# Aufgabe 1: Metadatenbeispiel aus der analogen Welt\n",
    "\n",
    "Nicht nur digitale Erzeugnisse enthalten Metadaten. Welche Metadaten könnte es bei einem Buch geben? "
   ]
  },
  {
   "cell_type": "markdown",
   "metadata": {
    "slideshow": {
     "slide_type": "slide"
    }
   },
   "source": [
    "# Aufgabe 1: Metadatenbeispiel aus der analogen Welt\n",
    "\n",
    "Nicht nur digitale Erzeugnisse enthalten Metadaten. Welche Metadaten könnte es bei einem Buch geben? \n",
    "\n",
    "1. <span style=\"color:grey\">Name des Autors</span>\n",
    "2. <span style=\"color:grey\">Auflage</span>\n",
    "3. <span style=\"color:grey\">Erscheinungsjahr</span>\n",
    "4. <span style=\"color:grey\">Verlag</span>\n",
    "5. <span style=\"color:grey\">ISBN-Nummer</span>"
   ]
  },
  {
   "cell_type": "markdown",
   "metadata": {
    "slideshow": {
     "slide_type": "slide"
    }
   },
   "source": [
    "# Arten von Metadaten\n",
    "\n",
    "\n",
    "*   Beschreibende Metadaten\n",
    "  * beschreiben eine Ressource für die Zwecke der Entdeckung und der Identifizierung\n",
    "*   Strukturelle Metadaten\n",
    "  * z.B. Datenmodelle und Referenzdaten\n",
    "*   Administrative Metadaten\n",
    "  * bieten Informationen zur Verwaltung\n",
    "einer Ressource\n",
    "\n"
   ]
  },
  {
   "cell_type": "markdown",
   "metadata": {
    "slideshow": {
     "slide_type": "slide"
    }
   },
   "source": [
    "![OASI-Datenmodell.png](attachment:OASI-Datenmodell.png)"
   ]
  },
  {
   "cell_type": "markdown",
   "metadata": {
    "slideshow": {
     "slide_type": "slide"
    }
   },
   "source": [
    "![OASI-erweitert.png](attachment:OASI-erweitert.png)"
   ]
  },
  {
   "cell_type": "markdown",
   "metadata": {
    "slideshow": {
     "slide_type": "slide"
    }
   },
   "source": [
    "# Metadatenstandards\n",
    "Um zum Beispiel Studien vergleichbar oder auch nachvollziehbar zu machen sind interoperable Metadaten essentiell.\n",
    "\n",
    "Interoperable Metadaten sind Metadaten aus potenziell unterschiedlichen Quellen, zwischen denen eine Beziehung in der Weise besteht, dass mit ihnen gemeinsam gearbeitet werden kann. \n",
    "\n",
    "Standards für interoperable Metadaten haben die Aufgabe, Metadaten aus unterschiedlichen Quellen nutzbar zu machen.\n"
   ]
  },
  {
   "cell_type": "markdown",
   "metadata": {
    "slideshow": {
     "slide_type": "slide"
    }
   },
   "source": [
    "\n",
    "Ein weit verbreiteter Standard für die bibliographische Beschreibung von Forschungsdaten ist das Metadatenschema zur Registrierung von DOIs (digital object identifiers) von DataCite. Dieses gibt vor, welche Information zu einem Datensatzes verpflichtend angegeben werden müssen (z. B. Autor, Titel), welche Angaben empfohlen werden (z. B. Fachbereich, Beschreibung) und welche optional sind (z. B. Finanzierung, Nutzungsrechte). Diese und weitere Metadaten werden im XML-Format für die interoperable Nutzung zur Verfügung gestellt."
   ]
  },
  {
   "cell_type": "markdown",
   "metadata": {
    "slideshow": {
     "slide_type": "slide"
    }
   },
   "source": [
    "# Metadatenschema\n",
    "\n",
    "Metadatenschemata sind Zusammenstellungen von Elementen zur Beschreibung von Daten. \n",
    "\n",
    "Da Informationen für das Auffinden, das Verständnis und die Nutzung von Daten essentiell sind, sollten standardisierte Metadatenschemata eine möglichst einheitliche und nachvollziehbare Beschreibung sicherstellen.\n"
   ]
  },
  {
   "cell_type": "markdown",
   "metadata": {
    "slideshow": {
     "slide_type": "slide"
    }
   },
   "source": [
    "Sollte kein fachspezifisches Schema zur Verfügung stehen, kann auch ein disziplinunabhängiges genutzt werden (z.B. Dublin Core, MARC21 oder RADAR). Metadatenschemata legen fest, welche Informationen geliefert werden sollen."
   ]
  },
  {
   "cell_type": "markdown",
   "metadata": {
    "slideshow": {
     "slide_type": "slide"
    }
   },
   "source": [
    "Eine Dokumentation geht in der Regel über die Beschreibung der Daten via Metadaten hinaus. Sie stellt eine tiefere, fachwissenschaftliche Erschließung dar, in deren Rahmen z.B. Entstehungskontext, Variablen, Instrumente, Methoden etc. ausführlich beschrieben werden. In vielen Fällen ist eine solche Beschreibung unerlässlich, um die Daten verstehen, nachprüfen und ggf. nachnutzen zu können."
   ]
  },
  {
   "cell_type": "markdown",
   "metadata": {
    "slideshow": {
     "slide_type": "slide"
    }
   },
   "source": [
    "![Metadatenschema.png](attachment:Metadatenschema.png)"
   ]
  },
  {
   "cell_type": "markdown",
   "metadata": {
    "slideshow": {
     "slide_type": "slide"
    }
   },
   "source": [
    "# Strukturelle Daten und Metadatenschema\n",
    "\n",
    "#### REFERENCE MODEL FOR AN OPEN ARCHIVAL INFORMATION SYSTEM (OASI)\n",
    "\n",
    "![REFERENCE MODEL FOR AN\n",
    "OPEN ARCHIVAL\n",
    "INFORMATION SYSTEM (OASI)](data/OASI_chard.jpg)"
   ]
  },
  {
   "cell_type": "markdown",
   "metadata": {
    "slideshow": {
     "slide_type": "subslide"
    }
   },
   "source": [
    "Sturcture Information, definiton by [Open Archival Information System](https://public.ccsds.org/pubs/650x0m2.pdf):\n",
    "\n",
    "- It does this by **describing the format**, or data structure concepts, which are to be applied to the bit sequences and that in turn result in more meaningful values such as characters, numbers, pixels, arrays, tables, etc."
   ]
  },
  {
   "cell_type": "markdown",
   "metadata": {
    "slideshow": {
     "slide_type": "subslide"
    }
   },
   "source": [
    "- These common computer **data types**, **aggregations** of these data types, and **mapping rules** which map from the underlying data types to the higher level concepts needed to understand the Digital Object are referred to as the Structure Information of the Representation Information object."
   ]
  },
  {
   "cell_type": "markdown",
   "metadata": {
    "slideshow": {
     "slide_type": "subslide"
    }
   },
   "source": [
    "Beispiel:\n",
    "- Ein Verweis auf den ASCII-Standard (ISO 9660), um bits in characters zu interpretieren.\n",
    "- Ein Verweis auf ISO/TS 22028-4 (Digital images encoded using eciRGB) um bits in Bilder zu interpretieren."
   ]
  },
  {
   "cell_type": "markdown",
   "metadata": {
    "slideshow": {
     "slide_type": "skip"
    }
   },
   "source": [
    "## import required libraries"
   ]
  },
  {
   "cell_type": "code",
   "execution_count": null,
   "metadata": {
    "pycharm": {
     "name": "#%%\n"
    },
    "slideshow": {
     "slide_type": "skip"
    }
   },
   "outputs": [],
   "source": [
    "import pandas as pd\n",
    "import numpy as np\n",
    "import matplotlib.pyplot as plt"
   ]
  },
  {
   "cell_type": "markdown",
   "metadata": {
    "slideshow": {
     "slide_type": "slide"
    }
   },
   "source": [
    "## Data exploration\n",
    "\n",
    "Orginal Daten können, wie angesprochen unter https://www.kaggle.com/datasets/sulianova/cardiovascular-disease-datasetOr\n",
    "gefunden werden.\n",
    "\n",
    "Features:\n",
    "\n",
    "-    Age | Objective Feature | age | int (days)\n",
    "-    Height | Objective Feature | height | int (cm) |\n",
    "-    Weight | Objective Feature | weight | float (kg) |\n",
    "-    Systolic blood pressure | Examination Feature | ap_hi | int |\n",
    "-    Diastolic blood pressure | Examination Feature | ap_lo | int |\n",
    "-    Smoking | Subjective Feature | smoke | 0-2 |\n",
    "-    Presence or absence of cardiovascular disease | Target Variable | cardio | 0-9 |"
   ]
  },
  {
   "cell_type": "code",
   "execution_count": null,
   "metadata": {
    "pycharm": {
     "name": "#%%\n"
    },
    "slideshow": {
     "slide_type": "subslide"
    }
   },
   "outputs": [],
   "source": [
    "df = pd.read_csv(\"./data/new_data.csv\", sep = ',', index_col = 0)"
   ]
  },
  {
   "cell_type": "code",
   "execution_count": null,
   "metadata": {
    "pycharm": {
     "name": "#%%\n"
    },
    "slideshow": {
     "slide_type": "subslide"
    }
   },
   "outputs": [],
   "source": [
    "df.head(5)"
   ]
  },
  {
   "cell_type": "markdown",
   "metadata": {
    "slideshow": {
     "slide_type": "slide"
    }
   },
   "source": [
    "## Was bedeuten diese Daten?\n",
    "\n",
    "![Was bedeuten diese Daten?](data/metadata_question.jpg)"
   ]
  },
  {
   "cell_type": "markdown",
   "metadata": {
    "slideshow": {
     "slide_type": "slide"
    }
   },
   "source": [
    "![Questions?](data/question.jpg)"
   ]
  },
  {
   "cell_type": "markdown",
   "metadata": {
    "slideshow": {
     "slide_type": "slide"
    }
   },
   "source": [
    "### Metadatenschema\n",
    "- Es gibt viele Arten von Metadatenstandards/-schemata(generisch/domänenspezifisch).\n",
    "- Generische: [Dublin Core](https://www.dublincore.org/), [MODS](http://format.gbv.de/mods) (Metadata Object Description Schema) sind in der Regel einfach zu verwenden und weit verbreitet, müssen jedoch häufig erweitert werden, um spezifischere Informationen abzudecken.\n",
    "- Domänenspezifische Schemata: Haben ein viel reichhaltigeres Vokabular und eine viel umfangreichere Struktur, sind jedoch in der Regel hochspezialisiert und nur für Forscher auf diesem Gebiet verständlich. [Beispiele here](https://fairsharing.org/search?fairsharingRegistry=Standard)"
   ]
  },
  {
   "cell_type": "markdown",
   "metadata": {
    "slideshow": {
     "slide_type": "slide"
    }
   },
   "source": [
    "## [Dublin Core](https://www.dublincore.org/specifications/dublin-core/dcmi-terms/#section-1)\n",
    "\n",
    "- Dublin Core geht auf die sogenannte Dublin Core Metadata Initiative(DCMI)\n",
    "- 1994 in Chicago gegründet\n",
    "- 1995 in Dublin einheitliche Standards zur Auszeichnung von Metaangaben definiert.\n",
    "- Ziel: Suchmaschinen das Durchsuchen von Dokumenten zu erleichtern, indem wichtige Inhalte bereits in den Metadaten hinterlegt sind.\n",
    "- Verwendung wo Suchmaschinen genutzt werden: Internet, Bibliotheken, Verwaltungen oder Museen.\n",
    "- Heute werden die Standards von einer Gruppe aus Freiwilligen weiter bearbeitet."
   ]
  },
  {
   "cell_type": "markdown",
   "metadata": {
    "slideshow": {
     "slide_type": "slide"
    }
   },
   "source": [
    "### Einteilung in 15 core elements [here](https://www.dublincore.org/specifications/dublin-core/dcmi-terms/):\n",
    "- contributor\n",
    "- coverage\n",
    "- creator\n",
    "- date\n",
    "- description\n",
    "- format\n",
    "- identifier\n",
    "- language\n",
    "- publisher\n",
    "- relation\n",
    "- rights\n",
    "- source"
   ]
  },
  {
   "cell_type": "markdown",
   "metadata": {
    "slideshow": {
     "slide_type": "subslide"
    }
   },
   "source": [
    "- **contributor (Beitragende)** *WHO?*: <br>\n",
    "Nennen der Person(en) oder Organisation(en), die bei der Erstellung der Ressource (Content) mitgewirkt haben.\n",
    "\n",
    "- **coverage (Ort und Zeit)** *WHERE/WHEN?*: <br>\n",
    "An dieser Stelle werden Informationen zum [Ort](http://www.getty.edu/research/tools/vocabularies/tgn/?find=&place=Heidelberg&nation=&prev_page=1&english=Y&popup=P) und zeitlichen Gültigkeitsbereich abgelegt. Hierbei sollen für Orte die gültigen Namen und für die temporäre Dauer Zeitintervalle (z.B. 07.07 - 12.07) verwendet werden.\n",
    "\n",
    "- **creator (Ersteller)** *WHO?*: <br>\n",
    "Nennen des ursprünglichen Autors einer Ressource. Autoren können Person(en) und Organisation(en) sein."
   ]
  },
  {
   "cell_type": "markdown",
   "metadata": {
    "slideshow": {
     "slide_type": "subslide"
    }
   },
   "source": [
    "- **[date (Datum)](https://www.w3.org/TR/NOTE-datetime)** *WHEN?*:<br>\n",
    "Hinterlegen von Informationen bezüglich Erstellungsdatum, Änderungsdatum, Sperrfrist und Löschdatum.\n",
    "\n",
    "- **description (Beschreibung)** *WHY/WHAT?*:<br>\n",
    "Zusätzliche Informationen, die die Ressource noch näher beschreiben. Hierzu zählen z.B. eine Kurzfassung oder ein Inhaltsverzeichnis.\n",
    "\n",
    "- **format (Format)** *WHAT/HOW?*:<br>\n",
    "Angaben zum [MIME-Typ](https://www.iana.org/assignments/media-types/media-types.xhtml) der Ressource wie Pixelgröße, Dateiformat, Bearbeitungsdauer, usw."
   ]
  },
  {
   "cell_type": "markdown",
   "metadata": {
    "slideshow": {
     "slide_type": "subslide"
    }
   },
   "source": [
    "- **identifier (Identifizierer)** *WHAT?*: <br>\n",
    "Dieses Element enthält einen eindeutigen Bezeichner für die Ressource z.B. eine URL([DOI](https://www.doi.org/)), Artikelnummer oder UID.\n",
    "\n",
    "- **language (Sprache)** *WHAT/HOW?*:<br>\n",
    "Hinterlegen eines Sprachecodes. Hierfür sollen Sprachcodes nach [ISO 639](https://www.loc.gov/standards/iso639-2/php/code_list.php) oder RFC 3066 verwendet werden.\n",
    "\n",
    "- **publisher (Verlag/Herausgeber)** *WHO?*: <br>\n",
    "Enthält Informationen über den Verleger. Der Verleger können Person(en) oder Organisation(en) sein."
   ]
  },
  {
   "cell_type": "markdown",
   "metadata": {
    "slideshow": {
     "slide_type": "subslide"
    }
   },
   "source": [
    "- **relation (Beziehungen)** *WHAT?*:<br>\n",
    "Hier werden Informationen über Beziehungen zu anderen Ressourcen festgehalten.\n",
    "\n",
    "- **rights (Rechte)** *WHO/WHERE?*: <br>\n",
    "An dieser Stelle werden Informationen bezüglich den Rechten an Ressourcen hinterlegt. Zum Beispiel über den Urheber oder die [Lizenzart](https://opensource.org/licenses) (GPL, LGPL, ZPL usw.).\n",
    "\n",
    "- **source (Quelle)** *WHAT?*: <br>\n",
    "Eine verwandte Ressource, von der die beschriebene Ressource abgeleitet ist. Die beschriebene Ressource kann ganz oder teilweise von der verwandten Ressource abgeleitet sein."
   ]
  },
  {
   "cell_type": "markdown",
   "metadata": {
    "slideshow": {
     "slide_type": "subslide"
    }
   },
   "source": [
    "\n",
    "- **subject (Stichwörter)**  *WHAT?*:<br>\n",
    "Hier können Stichwörter oder ganze identifizierende Phrasen zu einer Ressource hinterlegt werden.\n",
    "\n",
    "- **title (Titel)**  *WHAT?*:<br>\n",
    "Hinterlegen des Ressourcentitels (z.B. Dokumenttitel).\n",
    "\n",
    "- **[type (Typ)](https://www.dublincore.org/specifications/dublin-core/dcmi-terms/#section-7)**  *WHAT/HOW?*:<br>\n",
    "Über den Typ wird einer Ressource eine Medienkategorie wie Bild, Artikel, Ordner usw. zugeordnet."
   ]
  },
  {
   "cell_type": "markdown",
   "metadata": {
    "slideshow": {
     "slide_type": "slide"
    }
   },
   "source": [
    "### Aufgabe\n",
    "\n",
    "Fassen Sie die noch fehlenden \"Core Elemente\" unter der Verwendung der verlinkten Codierung-Standards für den vorgestellten Datensatz zusammen. Zusätzliche Informationen zum Datensatz können [hier](https://github.com/Fuenfgeld/2022TeamADataManagementBC/wiki/3.-Datensatz#zus%C3%A4tzliche-beschreibung) entnommen werden.\n",
    "\n",
    "Beispielhafte Codierung-Standards:\n",
    "- [Thesaurus of Geographic Names (TGN)](http://www.getty.edu/research/tools/vocabularies/tgn/?find=&place=Heidelberg&nation=&prev_page=1&english=Y&popup=P)\n",
    "\n",
    "- [Date and Time Formats](https://www.w3.org/TR/NOTE-datetime)\n",
    "\n",
    "- [Media types](https://www.iana.org/assignments/media-types/media-types.xhtml)\n",
    "\n",
    "- [Codes for the Representation of Names of Languages (ISO 639-2)](https://www.loc.gov/standards/iso639-2/php/code_list.php)\n",
    "\n",
    "- [List of popular Licenses](https://opensource.org/licenses)"
   ]
  },
  {
   "cell_type": "markdown",
   "metadata": {
    "slideshow": {
     "slide_type": "slide"
    }
   },
   "source": [
    "### XML-Schme\n",
    "\n",
    "- [Guidlines](https://www.dublincore.org/specifications/dublin-core/dc-xml-guidelines/2003-04-02/) für XML- & RDF- Format\n",
    "- Unterschied **Simple** und **Qulified** Dublin Core"
   ]
  },
  {
   "cell_type": "markdown",
   "metadata": {
    "slideshow": {
     "slide_type": "slide"
    }
   },
   "source": [
    "#### Simple Dublin Core\n",
    "\n",
    "- Besteht aus einer oder mehreren Eigenschaften und den zugehörigen Werten.\n",
    "- Jede Eigenschaft ist ein Attribut der beschriebenen Ressource.\n",
    "- Jede Eigenschaft muss eines der 15 DCMES [DCMES]-Elemente sein.\n",
    "- Eigenschaften können wiederholt werden.\n",
    "- Jeder Wert ist ein String.\n",
    "- Jeder String-Wert kann eine zugeordnete Sprache haben (z.B. en-GB).\n"
   ]
  },
  {
   "cell_type": "markdown",
   "metadata": {
    "slideshow": {
     "slide_type": "subslide"
    }
   },
   "source": [
    "```xml\n",
    "<?xml version=\"1.0\"?>\n",
    "\n",
    "<metadata\n",
    "  xmlns=\"http://example.org/myapp/\"\n",
    "  xmlns:xsi=\"http://www.w3.org/2001/XMLSchema-instance\"\n",
    "  xsi:schemaLocation=\"http://example.org/myapp/ http://example.org/myapp/schema.xsd\"\n",
    "  xmlns:dc=\"http://purl.org/dc/elements/1.1/\">\n",
    "\n",
    "  <dc:title>\n",
    "    UKOLN\n",
    "  </dc:title>\n",
    "  <dc:description>\n",
    "    UKOLN is a national focus of expertise in digital information\n",
    "    management. It provides policy, research and awareness services\n",
    "    to the UK library, information and cultural heritage communities.\n",
    "    UKOLN is based at the University of Bath.\n",
    "  </dc:description>\n",
    "  <dc:publisher>\n",
    "    UKOLN, University of Bath\n",
    "  </dc:publisher>\n",
    "  <dc:identifier>\n",
    "    http://www.ukoln.ac.uk/\n",
    "  </dc:identifier>\n",
    "\n",
    "</metadata>\n",
    "```"
   ]
  },
  {
   "cell_type": "markdown",
   "metadata": {
    "slideshow": {
     "slide_type": "slide"
    }
   },
   "source": [
    "#### Qualified Dublin Core\n",
    "\n",
    "\n",
    "- Besteht aus einer oder mehreren Eigenschaften und den zugehörigen Werten. **✓**\n",
    "- Jede Eigenschaft ist ein Attribut der beschriebenen Ressource. **✓**\n",
    "- Jede Eigenschaft muss entweder:\n",
    "    - eines der 15 DC-Elemente, **✓**\n",
    "    - eines der anderen vom DCMI empfohlenen Elemente (z. B. Publikum) [DCTERMS],\n",
    "    - eine der Elementverfeinerungen, die in der Empfehlung der DCMI-Metadatenbedingungen [DCTERMS] aufgeführt sind.\n",
    "- Eigenschaften können wiederholt werden. **✓**\n",
    "- Jeder Wert ist eine String. **✓**\n",
    "- Jeder Wert kann ein zugeordnetes Codierungsschema haben.\n",
    "- Jedes Kodierungsschema hat einen Namen.\n",
    "- Jeder String-Wert kann eine zugeordnete Sprache haben (z. B. en-GB). **✓**\n"
   ]
  },
  {
   "cell_type": "markdown",
   "metadata": {
    "slideshow": {
     "slide_type": "subslide"
    }
   },
   "source": [
    "```xml\n",
    "<?xml version=\"1.0\"?>\n",
    "\n",
    "<metadata\n",
    "  xmlns=\"http://example.org/myapp/\"\n",
    "  xmlns:xsi=\"http://www.w3.org/2001/XMLSchema-instance\"\n",
    "  xsi:schemaLocation=\"http://example.org/myapp/ http://example.org/myapp/schema.xsd\"\n",
    "  xmlns:dc=\"http://purl.org/dc/elements/1.1/\"\n",
    "  xmlns:dcterms=\"http://purl.org/dc/terms/\">\n",
    "\n",
    "  <dc:title>\n",
    "    UKOLN\n",
    "  </dc:title>\n",
    "  <dcterms:alternative>\n",
    "    UK Office for Library and Information Networking\n",
    "  </dcterms:alternative>\n",
    "  <dc:subject>\n",
    "    national centre, network information support, library\n",
    "    community, awareness, research, information services,public\n",
    "    library networking, bibliographic management, distributed\n",
    "    library systems, metadata, resource discovery,\n",
    "    conferences,lectures, workshops\n",
    "  </dc:subject>\n",
    "  <dc:subject xsi:type=\"dcterms:DDC\">\n",
    "    062\n",
    "  </dc:subject>\n",
    "  <dc:subject xsi:type=\"dcterms:UDC\">\n",
    "    061(410)\n",
    "  </dc:subject>\n",
    "  <dc:description>\n",
    "    UKOLN is a national focus of expertise in digital information\n",
    "    management. It provides policy, research and awareness services\n",
    "    to the UK library, information and cultural heritage communities.\n",
    "    UKOLN is based at the University of Bath.\n",
    "  </dc:description>\n",
    "  <dc:description xml:lang=\"fr\">\n",
    "    UKOLN est un centre national d'expertise dans la gestion de l'information\n",
    "    digitale.\n",
    "  </dc:description>\n",
    "  <dc:publisher>\n",
    "    UKOLN, University of Bath\n",
    "  </dc:publisher>\n",
    "  <dcterms:isPartOf xsi:type=\"dcterms:URI\">\n",
    "    http://www.bath.ac.uk/\n",
    "  </dcterms:isPartOf>\n",
    "  <dc:identifier xsi:type=\"dcterms:URI\">\n",
    "    http://www.ukoln.ac.uk/\n",
    "  </dc:identifier>\n",
    "  <dcterms:modified xsi:type=\"dcterms:W3CDTF\">\n",
    "    2001-07-18\n",
    "  </dcterms:modified>\n",
    "  <dc:format xsi:type=\"dcterms:IMT\">\n",
    "    text/html\n",
    "  </dc:format>\n",
    "  <dcterms:extent>\n",
    "    14 Kbytes\n",
    "  </dcterms:extent>\n",
    "\n",
    "</metadata>\n",
    "```"
   ]
  },
  {
   "cell_type": "markdown",
   "metadata": {
    "slideshow": {
     "slide_type": "slide"
    }
   },
   "source": [
    "# Semantische Daten"
   ]
  },
  {
   "cell_type": "markdown",
   "metadata": {
    "slideshow": {
     "slide_type": "slide"
    }
   },
   "source": [
    "*Daten werden für einen menschlichen Benutzer erst durch Interpretation zu Information, und diese Interpretation erfordert sowohl Wissen über die konkrete Anwendung als auch Weltwissen.*"
   ]
  },
  {
   "cell_type": "markdown",
   "metadata": {
    "slideshow": {
     "slide_type": "slide"
    }
   },
   "source": [
    "*Wir fassen diese Informationen unter dem Begriff Kontext zusammen. Daten erhalten ihre Bedeutung erst durch Berücksichtigung\n",
    "des Kontextes. Dabei ist zu beachten, dass manche Teile des Kontextes unmittelbar in computerlesbarer Form vorliegen, wie das\n",
    "Schema, während andere Teile nicht explizit modelliert wurden\n",
    "und für Programme nicht erreichbar sind, wie das externe Wissen\n",
    "über die Anwendung*"
   ]
  },
  {
   "cell_type": "markdown",
   "metadata": {
    "slideshow": {
     "slide_type": "slide"
    }
   },
   "source": [
    "*Da eine Menge strukturierter Daten durch die Namen der Strukturelemente beschrieben wird, sind Schemata\n",
    "Metadaten für Instanzen dieses Schemas; Metadaten zu einem Schema wiederum sind das Datenmodell, in dem das\n",
    "Schema erstellt ist*"
   ]
  },
  {
   "cell_type": "markdown",
   "metadata": {
    "slideshow": {
     "slide_type": "slide"
    }
   },
   "source": [
    "## Was versteht Ihr unter dem Begrifff Semantik? Wie stehen Semantik und Metadaten in Bezug zu einander?\n",
    "\n",
    "Hinweis:  Semantik = Interpretation von\n",
    "Daten\n"
   ]
  },
  {
   "cell_type": "markdown",
   "metadata": {
    "slideshow": {
     "slide_type": "subslide"
    }
   },
   "source": [
    "Welche Datenfelder weisen keinen semantische Hintegrund auf?\n",
    "\n",
    "Lösung:\n",
    "\n",
    "1.   Smoking\n",
    "2.   Alcohol intake\n",
    "3.   Physical activity\n",
    "\n",
    "\n",
    "\n"
   ]
  },
  {
   "cell_type": "markdown",
   "metadata": {
    "slideshow": {
     "slide_type": "slide"
    }
   },
   "source": [
    "## Semantik und Kodierungssysteme\n",
    "\n",
    "Um medizinischen Begriffen bzw. Zustände zu standardisieren wurden über die Zeit hinweg viele Klassifizierungen, Nomenklaturen und Ontologien aufgebaut, die das Ziel verfolgen einen Standard zu definieren der es ermöglicht eine konsistente, gemeinsame Darstellungen zu verwenden.\n",
    "\n",
    "Bekannte und wichtige Kodierungssysteme/Ontologien/Datenbanken sind:\n",
    "\n",
    "\n",
    "1.   SNOMED (https://www.snomed.org/)\n",
    "2.   LOINC  (https://loinc.org/)\n",
    "3.   ICD10  (https://www.icd-code.de/icd/code/ICD-10-GM.html)\n",
    "\n",
    "\n",
    "\n",
    "\n",
    "\n"
   ]
  },
  {
   "cell_type": "markdown",
   "metadata": {
    "slideshow": {
     "slide_type": "slide"
    }
   },
   "source": [
    "## LOINC\n",
    "\n",
    "Um einen internationalen Standard zur Festhaltung von Untersuchungs- und Testergebnissen aus Labor und Klinik wurde die 1994 die Datenbank Logical Observation Identifiers Names and Codes (LOINC) erstellt, welche sich etabliert hat.\n",
    "\n",
    "Unter folgenden Link findet Ihr die standardiserte Bezeichnung des \"Blutdrucks\"\n",
    "\n",
    "https://loinc.org/55284-4/\n",
    "\n",
    "Ihr werdet oben rechts darauf hingewiesen, das davon abgeraten wird den systolischen und diastolischen Blutdruck zusammengefasst als ein Schemaelement festzuhalten."
   ]
  },
  {
   "cell_type": "markdown",
   "metadata": {
    "slideshow": {
     "slide_type": "subslide"
    }
   },
   "source": [
    "### Aufgabe\n",
    "\n",
    "Wie lautet die Empfehlung von LOINC? Welche LOINC Codes finden sich jeweils für den systolischen und distolischen Blutdruck?"
   ]
  },
  {
   "cell_type": "markdown",
   "metadata": {
    "slideshow": {
     "slide_type": "slide"
    }
   },
   "source": [
    "## ICD-10\n",
    "\n",
    "Die International Classification of Diseases 10th Revision (ICD-10) ist ein weltweit anerkanntes System zur Klassifizierung von Diagnosen im medizinischen Umfeld. Hierbei wird nur eine Definition der Krankheit festgehalten."
   ]
  },
  {
   "cell_type": "markdown",
   "metadata": {
    "slideshow": {
     "slide_type": "subslide"
    }
   },
   "source": [
    "### Aufgabe\n",
    "\n",
    "Unter folgendem Link findet Ihr eine Klassifizierung der Krankheiten:\n",
    "\n",
    "https://www.icd-code.de/icd/code/ICD-10-GM.html\n",
    "\n",
    "Herkreislauf-Krankheiten (Cardiovascular Disease) zählen zu Krankheiten des Kreislaufsystems. Versucht einen ICD-10 Code Wertebereich zu finden der allgemein Herzkrankheiten beschreibt. Welche Werteberich findet sich?\n",
    "\n",
    "Der Datensatz beschreibt somit nur allgemein eine Herzkranheit aber nicht genau welche. Welcher ICD-10 Code würde eine Primäre Rechtsherzinsuffizienz beschreiben?"
   ]
  },
  {
   "cell_type": "markdown",
   "metadata": {
    "slideshow": {
     "slide_type": "slide"
    }
   },
   "source": [
    "## Ontologie\n",
    "\n",
    "Ontologien definieren definieren ein Vokabular mit dem alle Konzepte der Anwendung beschrieben werden können sowie deren Beziehungen zueinander. Es lässt sich sagen ,dass eine Ontologie als globales Schema genutzt werden kann.\n",
    "\n"
   ]
  },
  {
   "cell_type": "markdown",
   "metadata": {
    "slideshow": {
     "slide_type": "subslide"
    }
   },
   "source": [
    "### Aufgabe\n",
    "\n",
    "Für einen bessere Vorstellung sollt Ihr euch zunächst die SNOMED Ontologie anschauen, welche Ihr unter folgendem Link findet:\n",
    "\n",
    "https://bioportal.bioontology.org/ontologies/SNOMEDCT/?p=classes&conceptid=root\n",
    "\n",
    "Dort  sollt Ihr nach \"Tobacco use and exposure\" suchen.\n",
    "\n",
    "Versucht durch die Basisklasse \"Tobacco use and exposure\" die Subklasse \"Smoker\" zu finden und notiert bitte die ID der Klasse.\n"
   ]
  },
  {
   "cell_type": "markdown",
   "metadata": {
    "slideshow": {
     "slide_type": "subslide"
    }
   },
   "source": [
    "Würdet Ihr sagen das \"Smoker\" eine korrekte Klassifizierung darstellt oder könnte man noch das Element noch genauer definieren?\n"
   ]
  },
  {
   "cell_type": "markdown",
   "metadata": {
    "slideshow": {
     "slide_type": "subslide"
    }
   },
   "source": [
    "Wie müsste man in den Daten einen moderaten Raucher feshalten, der am Tag 10-19 Zigaretten raucht?"
   ]
  },
  {
   "cell_type": "markdown",
   "metadata": {
    "slideshow": {
     "slide_type": "slide"
    }
   },
   "source": [
    "## Zusammenfassung\n",
    "\n",
    "Wir haben gelernt, dass heutzutage Daten aus dem medizinischen Umfeld standardisiert und sehr präzise definiert werden können. Es ist wichtig den semantischen Kontext der Daten so genau wie möglich anzugeben, sodass kein Freiraum für Interpretationen der Daten gelassen werden und der Kontext gegeben ist. Genau an diesem Punkt knüpfen Kodierungssysteme, Ontologien und standardisierte Datenbank an. Sie ermöglichen es den Kontext der Daten klar zu definieren sodass nicht nur Menschen ein genaues Verständnis vermittelt wird sondern auch das maschinell beziehungsweise durch Anwendungen die Daten ausgelesen, interpretiert und ausgewertet werden können."
   ]
  },
  {
   "cell_type": "markdown",
   "metadata": {
    "slideshow": {
     "slide_type": "subslide"
    }
   },
   "source": [
    "Vergleich zwischen Hierarchie vs Ontologie\n",
    "ICD10 --> Hierarchie\n",
    "Onotologie --> Klassenmodell"
   ]
  }
 ],
 "metadata": {
  "celltoolbar": "Slideshow",
  "kernelspec": {
   "display_name": "Python 3",
   "language": "python",
   "name": "python3"
  }
 },
 "nbformat": 4,
 "nbformat_minor": 2
}
