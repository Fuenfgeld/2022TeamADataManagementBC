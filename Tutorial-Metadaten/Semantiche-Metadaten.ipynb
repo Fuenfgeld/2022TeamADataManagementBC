{
  "nbformat": 4,
  "nbformat_minor": 0,
  "metadata": {
    "colab": {
      "name": "Untitled0.ipynb",
      "provenance": [],
      "toc_visible": true,
      "collapsed_sections": [],
      "authorship_tag": "ABX9TyPuQWRzcS3Xmz+Tl98g/JWK",
      "include_colab_link": true
    },
    "kernelspec": {
      "name": "python3",
      "display_name": "Python 3"
    },
    "language_info": {
      "name": "python"
    }
  },
  "cells": [
    {
      "cell_type": "markdown",
      "metadata": {
        "id": "view-in-github",
        "colab_type": "text"
      },
      "source": [
        "<a href=\"https://colab.research.google.com/github/Fuenfgeld/2022TeamADataManagementBC/blob/main/Tutorial-Metadaten/Semantiche-Metadaten.ipynb\" target=\"_parent\"><img src=\"https://colab.research.google.com/assets/colab-badge.svg\" alt=\"Open In Colab\"/></a>"
      ]
    },
    {
      "cell_type": "markdown",
      "source": [
        "# Einführung "
      ],
      "metadata": {
        "id": "H6tcyHmaAeKt"
      }
    },
    {
      "cell_type": "markdown",
      "source": [
        "*Daten werden für einen menschlichen Benutzer erst durch Interpretation zu Information, und diese Interpretation erfordert sowohl Wissen über die konkrete Anwendung als auch Weltwissen.*"
      ],
      "metadata": {
        "id": "DGLGrd5O1i3G"
      }
    },
    {
      "cell_type": "markdown",
      "source": [
        "*Wir fassen diese Informationen unter dem Begriff Kontext zusammen. Daten erhalten ihre Bedeutung erst durch Berücksichtigung\n",
        "des Kontextes. Dabei ist zu beachten, dass manche Teile des Kontextes unmittelbar in computerlesbarer Form vorliegen, wie das\n",
        "Schema, während andere Teile nicht explizit modelliert wurden\n",
        "und für Programme nicht erreichbar sind, wie das externe Wissen\n",
        "über die Anwendung*"
      ],
      "metadata": {
        "id": "HKTxxVW_2Fit"
      }
    },
    {
      "cell_type": "markdown",
      "source": [
        "*Da eine Menge strukturierter Daten durch die Namen der Strukturelemente beschrieben wird, sind Schemata\n",
        "Metadaten für Instanzen dieses Schemas; Metadaten zu einem Schema wiederum sind das Datenmodell, in dem das\n",
        "Schema erstellt ist*"
      ],
      "metadata": {
        "id": "BQ291lDG40uy"
      }
    },
    {
      "cell_type": "markdown",
      "source": [
        "# Was versteht Ihr unter dem Begrifff Semantik? Wie stehen Semantik und Metadaten in Bezug zu einander?\n",
        "\n",
        "Hinweis:  Semantik = Interpretation von\n",
        "Daten\n"
      ],
      "metadata": {
        "id": "AkO8sGcy2ll_"
      }
    },
    {
      "cell_type": "markdown",
      "source": [
        "Welche Datenfelder weisen keinen semantische Hintegrund auf?\n",
        "\n",
        "Lösung: \n",
        "\n",
        "1.   Smoking \n",
        "2.   Alcohol intake   \n",
        "3.   Physical activity\n",
        "\n",
        "\n",
        "\n"
      ],
      "metadata": {
        "id": "qQdMjQfl5qXo"
      }
    },
    {
      "cell_type": "markdown",
      "source": [
        "# Semantik und Kodierungssysteme\n",
        "\n",
        "Um medizinischen Begriffen bzw. Zustände zu standardisieren wurden über die Zeit hinweg viele Klassifizierungen, Nomenklaturen und Ontologien aufgebaut, die das Ziel verfolgen einen Standard zu definieren der es ermöglicht eine konsistente, gemeinsame Darstellungen zu verwenden. \n",
        "\n",
        "Bekannte und wichtige Kodierungssysteme/Ontologien/Datenbanken sind: \n",
        "\n",
        "\n",
        "1.   SNOMED (https://www.snomed.org/)\n",
        "2.   LOINC  (https://loinc.org/)\n",
        "3.   ICD10  (https://www.icd-code.de/icd/code/ICD-10-GM.html)\n",
        "\n",
        "\n",
        "\n",
        "\n",
        "\n"
      ],
      "metadata": {
        "id": "-PmL1Hle7iDH"
      }
    },
    {
      "cell_type": "markdown",
      "source": [
        "# LOINC\n",
        "\n",
        "Um einen internationalen Standard zur Festhaltung von Untersuchungs- und Testergebnissen aus Labor und Klinik wurde die 1994 die Datenbank Logical Observation Identifiers Names and Codes (LOINC) erstellt, welche sich etabliert hat.\n",
        "\n",
        "Unter folgenden Link findet Ihr die standardiserte Bezeichnung des \"Blutdrucks\"\n",
        "\n",
        "https://loinc.org/55284-4/\n",
        "\n",
        "Ihr werdet oben rechts darauf hingewiesen, das davon abgeraten wird den systolischen und diastolischen Blutdruck zusammengefasst als ein Schemaelement festzuhalten. \n",
        "\n",
        "# Aufgabe\n",
        "\n",
        "Wie lautet die Empfehlung von LOINC? Welche LOINC Codes finden sich jeweils für den systolischen und distolischen Blutdruck?\n",
        "\n"
      ],
      "metadata": {
        "id": "aiWuthmj92y6"
      }
    },
    {
      "cell_type": "markdown",
      "source": [
        "# ICD-10\n",
        "\n",
        "Die International Classification of Diseases 10th Revision (ICD-10) ist ein weltweit anerkanntes System zur Klassifizierung von Diagnosen im medizinischen Umfeld. Hierbei wird nur eine Definition der Krankheit festgehalten. \n",
        "\n",
        "# Aufgabe\n",
        "\n",
        "Unter folgendem Link findet Ihr eine Klassifizierung der Krankheiten:\n",
        "\n",
        "https://www.icd-code.de/icd/code/ICD-10-GM.html\n",
        "\n",
        "Herkreislauf-Krankheiten (Cardiovascular Disease) zählen zu Krankheiten des Kreislaufsystems. Versucht einen ICD-10 Code Wertebereich zu finden der allgemein Herzkrankheiten beschreibt. Welche Werteberich findet sich?\n",
        "\n",
        "Der Datensatz beschreibt somit nur allgemein eine Herzkranheit aber nicht genau welche. Welcher ICD-10 Code würde eine Primäre Rechtsherzinsuffizienz beschreiben?\n"
      ],
      "metadata": {
        "id": "ZBZ2iG2eBdAr"
      }
    },
    {
      "cell_type": "markdown",
      "source": [
        "# Ontologie\n",
        "\n",
        "Ontologien definieren definieren ein Vokabular mit dem alle Konzepte der Anwendung beschrieben werden können sowie deren Beziehungen zueinander. Es lässt sich sagen ,dass eine Ontologie als globales Schema genutzt werden kann.\n",
        "\n"
      ],
      "metadata": {
        "id": "IL4W7cSm10um"
      }
    },
    {
      "cell_type": "markdown",
      "source": [
        "# Aufgabe\n",
        "\n",
        "Für einen bessere Vorstellung sollt Ihr euch zunächst die SNOMED Ontologie anschauen, welche Ihr unter folgendem Link findet:\n",
        "\n",
        "https://bioportal.bioontology.org/ontologies/SNOMEDCT/?p=classes&conceptid=root\n",
        "\n",
        "Dort  sollt Ihr nach \"Tobacco use and exposure\" suchen.  \n",
        "\n",
        "Versucht durch die Basisklasse \"Tobacco use and exposure\" die Subklasse \"Smoker\" zu finden und notiert bitte die ID der Klasse.\n"
      ],
      "metadata": {
        "id": "XLd7LJJq5z4g"
      }
    },
    {
      "cell_type": "markdown",
      "source": [
        "Würdet Ihr sagen das \"Smoker\" eine korrekte Klassifizierung darstellt oder könnte man noch das Element noch genauer definieren? \n"
      ],
      "metadata": {
        "id": "3HL8Ll2x8nge"
      }
    },
    {
      "cell_type": "markdown",
      "source": [
        "Wie müsste man in den Daten einen moderaten Raucher feshalten, der am Tag 10-19 Zigaretten raucht? "
      ],
      "metadata": {
        "id": "IeLz-8Vz8usJ"
      }
    },
    {
      "cell_type": "markdown",
      "source": [
        "# Zusammenfassung\n",
        "\n",
        "Wir haben gelernt, dass heutzutage Daten aus dem medizinischen Umfeld standardisiert und sehr präzise definiert werden können. Es ist wichtig den semantischen Kontext der Daten so genau wie möglich anzugeben, sodass kein Freiraum für Interpretationen der Daten gelassen werden und der Kontext gegeben ist. Genau an diesem Punkt knüpfen Kodierungssysteme, Ontologien und standardisierte Datenbank an. Sie ermöglichen es den Kontext der Daten klar zu definieren sodass nicht nur Menschen ein genaues Verständnis vermittelt wird sondern auch das maschinell beziehungsweise durch Anwendungen die Daten ausgelesen, interpretiert und ausgewertet werden können."
      ],
      "metadata": {
        "id": "WS70gkhg9d2F"
      }
    },
    {
      "cell_type": "markdown",
      "source": [
        "Vergleich zwischen Hierarchie vs Ontologie\n",
        "ICD10 --> Hierarchie\n",
        "Onotologie --> Klassenmodell"
      ],
      "metadata": {
        "id": "AfwS5P4xIHUt"
      }
    },
    {
      "cell_type": "code",
      "source": [
        ""
      ],
      "metadata": {
        "id": "snlBbXeaISJL"
      },
      "execution_count": null,
      "outputs": []
    }
  ]
}